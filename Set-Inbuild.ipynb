{
 "cells": [
  {
   "cell_type": "markdown",
   "id": "77e1b771-18bb-44f6-b5b1-25b86b0c8b8e",
   "metadata": {},
   "source": [
    "# Set"
   ]
  },
  {
   "cell_type": "code",
   "execution_count": 1,
   "id": "b1b5a862-3758-4c41-b5e8-72b8edd3e312",
   "metadata": {},
   "outputs": [],
   "source": [
    "# set is unordered and unindexed collection of items \n",
    "# Set elements are unique, duplicates elements are not allowed\n",
    "# set elements are immutable(not changable)\n",
    "# Set itself is mutable. We can add or remove items from it"
   ]
  },
  {
   "cell_type": "markdown",
   "id": "75f03593-4e57-4194-9ef7-cf77d073eae3",
   "metadata": {},
   "source": [
    "## Set Creation"
   ]
  },
  {
   "cell_type": "code",
   "execution_count": 2,
   "id": "4c9be4bb-26a4-44e6-b7c1-0795e39b253f",
   "metadata": {},
   "outputs": [
    {
     "data": {
      "text/plain": [
       "{1, 2, 3, 4, 5}"
      ]
     },
     "execution_count": 2,
     "metadata": {},
     "output_type": "execute_result"
    }
   ],
   "source": [
    "myset = {1,2,3,4,5} # set of numbers\n",
    "myset"
   ]
  },
  {
   "cell_type": "code",
   "execution_count": 3,
   "id": "886331e3-95d1-4ef0-9cb6-679c992fd39c",
   "metadata": {},
   "outputs": [
    {
     "data": {
      "text/plain": [
       "set"
      ]
     },
     "execution_count": 3,
     "metadata": {},
     "output_type": "execute_result"
    }
   ],
   "source": [
    "type(myset)"
   ]
  },
  {
   "cell_type": "code",
   "execution_count": 4,
   "id": "b358ade7-4471-4987-983b-6b68391ce216",
   "metadata": {},
   "outputs": [
    {
     "data": {
      "text/plain": [
       "5"
      ]
     },
     "execution_count": 4,
     "metadata": {},
     "output_type": "execute_result"
    }
   ],
   "source": [
    "len(myset)"
   ]
  },
  {
   "cell_type": "code",
   "execution_count": 6,
   "id": "aaa3c609-91a9-48ee-ac4b-c765dad9f77a",
   "metadata": {},
   "outputs": [
    {
     "data": {
      "text/plain": [
       "{1, 2, 3, 4, 5}"
      ]
     },
     "execution_count": 6,
     "metadata": {},
     "output_type": "execute_result"
    }
   ],
   "source": [
    "my_set = {1,1,2,2,3,4,5,5} # In set duplicates items are not allowed\n",
    "my_set"
   ]
  },
  {
   "cell_type": "code",
   "execution_count": 8,
   "id": "861ebe7b-4f00-480e-9464-afc1c7ca941c",
   "metadata": {},
   "outputs": [
    {
     "data": {
      "text/plain": [
       "{1.79, 2.08, 3.99, 4.96, 5.45}"
      ]
     },
     "execution_count": 8,
     "metadata": {},
     "output_type": "execute_result"
    }
   ],
   "source": [
    "myset1 = {1.79,2.08,3.99,4.96,5.45} # set of float numbers\n",
    "\n",
    "myset1"
   ]
  },
  {
   "cell_type": "code",
   "execution_count": 10,
   "id": "21f5bf9e-2023-430a-b897-69c4da88fdf4",
   "metadata": {},
   "outputs": [
    {
     "data": {
      "text/plain": [
       "{'Asif', 'jhon', 'tyrion'}"
      ]
     },
     "execution_count": 10,
     "metadata": {},
     "output_type": "execute_result"
    }
   ],
   "source": [
    "myset2 = {'Asif','jhon','tyrion'}  # set of strings\n",
    "myset2"
   ]
  },
  {
   "cell_type": "code",
   "execution_count": 11,
   "id": "6ec42fa6-f210-4c6e-85cc-fd0b2d554471",
   "metadata": {},
   "outputs": [
    {
     "data": {
      "text/plain": [
       "{(11, 22, 33), 10, 20, 'Hola'}"
      ]
     },
     "execution_count": 11,
     "metadata": {},
     "output_type": "execute_result"
    }
   ],
   "source": [
    "myset3 = {10,20,'Hola',(11,22,33)} # set of mix datatypes\n",
    "myset3"
   ]
  },
  {
   "cell_type": "code",
   "execution_count": 13,
   "id": "1b57dbec-371b-433b-9dca-2d71e5e6839c",
   "metadata": {},
   "outputs": [
    {
     "ename": "TypeError",
     "evalue": "unhashable type: 'list'",
     "output_type": "error",
     "traceback": [
      "\u001b[1;31m---------------------------------------------------------------------------\u001b[0m",
      "\u001b[1;31mTypeError\u001b[0m                                 Traceback (most recent call last)",
      "Cell \u001b[1;32mIn[13], line 1\u001b[0m\n\u001b[1;32m----> 1\u001b[0m myset3 \u001b[38;5;241m=\u001b[39m {\u001b[38;5;241m10\u001b[39m,\u001b[38;5;241m20\u001b[39m,\u001b[38;5;124m'\u001b[39m\u001b[38;5;124mHola\u001b[39m\u001b[38;5;124m'\u001b[39m,[\u001b[38;5;241m11\u001b[39m,\u001b[38;5;241m22\u001b[39m,\u001b[38;5;241m33\u001b[39m]} \u001b[38;5;66;03m# set does not allowed mutable items and items like list\u001b[39;00m\n\u001b[0;32m      2\u001b[0m myset3\n",
      "\u001b[1;31mTypeError\u001b[0m: unhashable type: 'list'"
     ]
    }
   ],
   "source": [
    "myset3 = {10,20,'Hola',[11,22,33]} # set does not allowed mutable items and items like list\n",
    "myset3\n"
   ]
  },
  {
   "cell_type": "code",
   "execution_count": 14,
   "id": "9095d06e-f72b-4c0a-8ab7-d96e0d6cf8a7",
   "metadata": {},
   "outputs": [
    {
     "name": "stdout",
     "output_type": "stream",
     "text": [
      "<class 'set'>\n"
     ]
    }
   ],
   "source": [
    "myset4 = set() # creation of empty set\n",
    "print(type(myset4))"
   ]
  },
  {
   "cell_type": "code",
   "execution_count": 15,
   "id": "4d4a46ab-8f15-4126-9aba-a3516ed9ba4a",
   "metadata": {},
   "outputs": [
    {
     "data": {
      "text/plain": [
       "{'four', 'one', 'three', 'two'}"
      ]
     },
     "execution_count": 15,
     "metadata": {},
     "output_type": "execute_result"
    }
   ],
   "source": [
    "my_set1 = set(('one','two','three','four'))\n",
    "my_set1"
   ]
  },
  {
   "cell_type": "markdown",
   "id": "7bbbf4d1-003e-4156-8c32-8a264dbe761f",
   "metadata": {},
   "source": [
    "## Loop through a set"
   ]
  },
  {
   "cell_type": "code",
   "execution_count": 16,
   "id": "d489767c-65a5-4ba7-ab72-833338ca1d77",
   "metadata": {},
   "outputs": [
    {
     "name": "stdout",
     "output_type": "stream",
     "text": [
      "seven\n",
      "three\n",
      "eight\n",
      "four\n",
      "six\n",
      "five\n",
      "one\n",
      "two\n"
     ]
    }
   ],
   "source": [
    "myset = {'one','two','three','four','five','six','seven','eight'}\n",
    "\n",
    "for i in myset:\n",
    "    print(i)"
   ]
  },
  {
   "cell_type": "code",
   "execution_count": 18,
   "id": "65eda705-428d-4e24-9fd3-28f7e0c5626d",
   "metadata": {},
   "outputs": [
    {
     "name": "stdout",
     "output_type": "stream",
     "text": [
      "(0, 'seven')\n",
      "(1, 'three')\n",
      "(2, 'eight')\n",
      "(3, 'four')\n",
      "(4, 'six')\n",
      "(5, 'five')\n",
      "(6, 'one')\n",
      "(7, 'two')\n"
     ]
    }
   ],
   "source": [
    "for i in enumerate(myset): # enumatrate gives loop as well as indexing the loop items\n",
    "    print(i)"
   ]
  },
  {
   "cell_type": "markdown",
   "id": "8b5c4d73-c57c-4a13-a3b2-476aac22b071",
   "metadata": {},
   "source": [
    "## Set Membership"
   ]
  },
  {
   "cell_type": "code",
   "execution_count": 19,
   "id": "d9085351-8299-4669-9989-a74ec2c23f2f",
   "metadata": {},
   "outputs": [
    {
     "data": {
      "text/plain": [
       "{'eight', 'five', 'four', 'one', 'seven', 'six', 'three', 'two'}"
      ]
     },
     "execution_count": 19,
     "metadata": {},
     "output_type": "execute_result"
    }
   ],
   "source": [
    "myset"
   ]
  },
  {
   "cell_type": "code",
   "execution_count": 20,
   "id": "6a8c6cad-6a4d-4c4a-bac1-d10736965e18",
   "metadata": {},
   "outputs": [
    {
     "data": {
      "text/plain": [
       "True"
      ]
     },
     "execution_count": 20,
     "metadata": {},
     "output_type": "execute_result"
    }
   ],
   "source": [
    "'one'in myset # Checking if one is present in myset or not"
   ]
  },
  {
   "cell_type": "code",
   "execution_count": 21,
   "id": "a225852f-1415-4abc-9101-a9b615821bd2",
   "metadata": {},
   "outputs": [
    {
     "data": {
      "text/plain": [
       "False"
      ]
     },
     "execution_count": 21,
     "metadata": {},
     "output_type": "execute_result"
    }
   ],
   "source": [
    "'ten' in myset"
   ]
  },
  {
   "cell_type": "code",
   "execution_count": 23,
   "id": "de267e52-56ff-4af1-a6a6-10ae7e4076f9",
   "metadata": {},
   "outputs": [
    {
     "name": "stdout",
     "output_type": "stream",
     "text": [
      "three is present in the set\n"
     ]
    }
   ],
   "source": [
    "if 'three' in myset:                               # using if else statement in set \n",
    "    print('three is present in the set')\n",
    "else:\n",
    "    print('three is not present in the set')"
   ]
  },
  {
   "cell_type": "code",
   "execution_count": 24,
   "id": "1464a72d-b258-4319-8119-b512c2172147",
   "metadata": {},
   "outputs": [
    {
     "name": "stdout",
     "output_type": "stream",
     "text": [
      "eleven is not present in the set\n"
     ]
    }
   ],
   "source": [
    "if 'eleven' in myset:                               # using if else statement in set \n",
    "    print('eleven is present in the set')\n",
    "else:\n",
    "    print('eleven is not present in the set')"
   ]
  },
  {
   "cell_type": "markdown",
   "id": "e41fd509-12bd-45a2-ab33-7515fe48ce39",
   "metadata": {},
   "source": [
    "## Add & Remove Items "
   ]
  },
  {
   "cell_type": "code",
   "execution_count": 25,
   "id": "cc694869-4530-4ad6-806a-6909f7bce83d",
   "metadata": {},
   "outputs": [
    {
     "data": {
      "text/plain": [
       "{'eight', 'five', 'four', 'one', 'seven', 'six', 'three', 'two'}"
      ]
     },
     "execution_count": 25,
     "metadata": {},
     "output_type": "execute_result"
    }
   ],
   "source": [
    "myset"
   ]
  },
  {
   "cell_type": "code",
   "execution_count": 26,
   "id": "9d0c4814-3bcd-4860-a1ef-1ccd39830bcb",
   "metadata": {},
   "outputs": [
    {
     "data": {
      "text/plain": [
       "{'eight', 'five', 'four', 'nine', 'one', 'seven', 'six', 'three', 'two'}"
      ]
     },
     "execution_count": 26,
     "metadata": {},
     "output_type": "execute_result"
    }
   ],
   "source": [
    "myset.add('nine') # Adding items into the set\n",
    "myset"
   ]
  },
  {
   "cell_type": "code",
   "execution_count": 30,
   "id": "ca022eea-a9ce-43f6-8d9a-7f1457e97f02",
   "metadata": {},
   "outputs": [
    {
     "data": {
      "text/plain": [
       "{'eight',\n",
       " 'eleven',\n",
       " 'five',\n",
       " 'four',\n",
       " 'nine',\n",
       " 'one',\n",
       " 'seven',\n",
       " 'six',\n",
       " 'ten',\n",
       " 'three',\n",
       " 'twelve',\n",
       " 'two'}"
      ]
     },
     "execution_count": 30,
     "metadata": {},
     "output_type": "execute_result"
    }
   ],
   "source": [
    "myset.update(['ten','eleven','twelve'])   # in set we can add only one item but here we are adding multiple items using UPDATE()\n",
    "myset"
   ]
  },
  {
   "cell_type": "code",
   "execution_count": 31,
   "id": "e5974aaf-0235-4d9e-8b95-ed15fd0465ea",
   "metadata": {},
   "outputs": [
    {
     "data": {
      "text/plain": [
       "{'eight',\n",
       " 'eleven',\n",
       " 'five',\n",
       " 'four',\n",
       " 'one',\n",
       " 'seven',\n",
       " 'six',\n",
       " 'ten',\n",
       " 'three',\n",
       " 'twelve',\n",
       " 'two'}"
      ]
     },
     "execution_count": 31,
     "metadata": {},
     "output_type": "execute_result"
    }
   ],
   "source": [
    "myset.remove('nine') # removing the items by using remove()\n",
    "myset"
   ]
  },
  {
   "cell_type": "code",
   "execution_count": 32,
   "id": "1598209e-4d0f-4c2a-8552-28d9dee5d288",
   "metadata": {},
   "outputs": [
    {
     "data": {
      "text/plain": [
       "{'eight',\n",
       " 'eleven',\n",
       " 'five',\n",
       " 'four',\n",
       " 'one',\n",
       " 'seven',\n",
       " 'six',\n",
       " 'three',\n",
       " 'twelve',\n",
       " 'two'}"
      ]
     },
     "execution_count": 32,
     "metadata": {},
     "output_type": "execute_result"
    }
   ],
   "source": [
    "myset.discard('ten')\n",
    "myset"
   ]
  },
  {
   "cell_type": "code",
   "execution_count": 33,
   "id": "5727c80f-e1f1-4544-85d8-26f9f259af17",
   "metadata": {},
   "outputs": [
    {
     "data": {
      "text/plain": [
       "set()"
      ]
     },
     "execution_count": 33,
     "metadata": {},
     "output_type": "execute_result"
    }
   ],
   "source": [
    "myset.clear() # Deleting the all items in the set by using Clear()\n",
    "myset"
   ]
  },
  {
   "cell_type": "code",
   "execution_count": 34,
   "id": "ab706f21-6b09-4ab8-95ba-10ff86afa077",
   "metadata": {},
   "outputs": [
    {
     "ename": "NameError",
     "evalue": "name 'myset' is not defined",
     "output_type": "error",
     "traceback": [
      "\u001b[1;31m---------------------------------------------------------------------------\u001b[0m",
      "\u001b[1;31mNameError\u001b[0m                                 Traceback (most recent call last)",
      "Cell \u001b[1;32mIn[34], line 2\u001b[0m\n\u001b[0;32m      1\u001b[0m \u001b[38;5;28;01mdel\u001b[39;00m myset  \u001b[38;5;66;03m# delete the set objecct\u001b[39;00m\n\u001b[1;32m----> 2\u001b[0m myset\n",
      "\u001b[1;31mNameError\u001b[0m: name 'myset' is not defined"
     ]
    }
   ],
   "source": [
    "del myset  # delete the set objecct\n",
    "myset"
   ]
  },
  {
   "cell_type": "markdown",
   "id": "fd756578-ff2f-48cb-958c-763fa9f7f9c6",
   "metadata": {},
   "source": [
    "## Copy Set"
   ]
  },
  {
   "cell_type": "code",
   "execution_count": 35,
   "id": "2a98b592-9bff-483a-a359-fd70befc52dd",
   "metadata": {},
   "outputs": [
    {
     "data": {
      "text/plain": [
       "{'eight', 'five', 'four', 'one', 'seven', 'six', 'three', 'two'}"
      ]
     },
     "execution_count": 35,
     "metadata": {},
     "output_type": "execute_result"
    }
   ],
   "source": [
    "myset = {'one','two','three','four','five','six','seven','eight'}\n",
    "myset"
   ]
  },
  {
   "cell_type": "code",
   "execution_count": 36,
   "id": "843cdcf6-8d2a-4d8e-8d6a-a84671d3a3b1",
   "metadata": {},
   "outputs": [
    {
     "data": {
      "text/plain": [
       "{'eight', 'five', 'four', 'one', 'seven', 'six', 'three', 'two'}"
      ]
     },
     "execution_count": 36,
     "metadata": {},
     "output_type": "execute_result"
    }
   ],
   "source": [
    "myset1 = myset # craete a new reference \"myset1\"\n",
    "myset1"
   ]
  },
  {
   "cell_type": "code",
   "execution_count": 37,
   "id": "f9c44f13-5896-4107-86f9-e57d6e5b9670",
   "metadata": {},
   "outputs": [
    {
     "data": {
      "text/plain": [
       "(2051805783520, 2051805783520)"
      ]
     },
     "execution_count": 37,
     "metadata": {},
     "output_type": "execute_result"
    }
   ],
   "source": [
    "id(myset) , id(myset1)"
   ]
  },
  {
   "cell_type": "code",
   "execution_count": 38,
   "id": "0f033d4a-a0ca-4d4a-8ce7-3317aa4815d0",
   "metadata": {},
   "outputs": [
    {
     "data": {
      "text/plain": [
       "{'eight', 'five', 'four', 'one', 'seven', 'six', 'three', 'two'}"
      ]
     },
     "execution_count": 38,
     "metadata": {},
     "output_type": "execute_result"
    }
   ],
   "source": [
    "my_set = myset.copy() # create a copy of the set\n",
    "my_set"
   ]
  },
  {
   "cell_type": "code",
   "execution_count": 40,
   "id": "33d14557-a710-40f1-957a-5a0fd2c88ea3",
   "metadata": {},
   "outputs": [
    {
     "data": {
      "text/plain": [
       "2051805776352"
      ]
     },
     "execution_count": 40,
     "metadata": {},
     "output_type": "execute_result"
    }
   ],
   "source": [
    "id(my_set) # this 'my_set' id address will be different bcz its a copy of myset"
   ]
  },
  {
   "cell_type": "code",
   "execution_count": 41,
   "id": "bf72edaf-a3ec-421d-8d81-eba4f1004f9f",
   "metadata": {},
   "outputs": [],
   "source": [
    "myset.add('nine') "
   ]
  },
  {
   "cell_type": "code",
   "execution_count": 42,
   "id": "db0f1968-3ab0-4b4a-8239-353e2f394726",
   "metadata": {},
   "outputs": [
    {
     "data": {
      "text/plain": [
       "{'eight', 'five', 'four', 'nine', 'one', 'seven', 'six', 'three', 'two'}"
      ]
     },
     "execution_count": 42,
     "metadata": {},
     "output_type": "execute_result"
    }
   ],
   "source": [
    "myset"
   ]
  },
  {
   "cell_type": "code",
   "execution_count": 43,
   "id": "f23a055a-a2f1-453f-904a-7d617a9f03a9",
   "metadata": {},
   "outputs": [
    {
     "data": {
      "text/plain": [
       "{'eight', 'five', 'four', 'nine', 'one', 'seven', 'six', 'three', 'two'}"
      ]
     },
     "execution_count": 43,
     "metadata": {},
     "output_type": "execute_result"
    }
   ],
   "source": [
    "myset1 # myset1 also will impacted because we assing as == to myset"
   ]
  },
  {
   "cell_type": "code",
   "execution_count": 44,
   "id": "390d2894-0f55-446b-bc43-695af841997c",
   "metadata": {},
   "outputs": [
    {
     "data": {
      "text/plain": [
       "{'eight', 'five', 'four', 'one', 'seven', 'six', 'three', 'two'}"
      ]
     },
     "execution_count": 44,
     "metadata": {},
     "output_type": "execute_result"
    }
   ],
   "source": [
    "my_set # Copy of set won't get effected bcz its not orignal, changes made in original one not in this one."
   ]
  },
  {
   "cell_type": "markdown",
   "id": "a91cebd8-548a-4a9f-baf9-b027367e0578",
   "metadata": {},
   "source": [
    "## Set Operations"
   ]
  },
  {
   "cell_type": "markdown",
   "id": "02d4bc1f-069c-4c20-a44d-9a745f7ac386",
   "metadata": {},
   "source": [
    "### Union"
   ]
  },
  {
   "cell_type": "code",
   "execution_count": 49,
   "id": "97a36d17-3efb-4976-8756-f4434ee8b1f7",
   "metadata": {},
   "outputs": [],
   "source": [
    "A = {1,2,3,4,5}\n",
    "B = {4,5,6,7,8}\n",
    "C = {8,9,10}"
   ]
  },
  {
   "cell_type": "code",
   "execution_count": 50,
   "id": "642a2ebb-4f6b-4a30-912a-62c57c3dee9c",
   "metadata": {},
   "outputs": [
    {
     "data": {
      "text/plain": [
       "{1, 2, 3, 4, 5, 6, 7, 8}"
      ]
     },
     "execution_count": 50,
     "metadata": {},
     "output_type": "execute_result"
    }
   ],
   "source": [
    "A | B # union of A&B its take all the elements from the a and b"
   ]
  },
  {
   "cell_type": "code",
   "execution_count": 51,
   "id": "d77bde03-40ae-4f9e-aa6b-834f06c58874",
   "metadata": {},
   "outputs": [
    {
     "data": {
      "text/plain": [
       "{1, 2, 3, 4, 5, 6, 7, 8}"
      ]
     },
     "execution_count": 51,
     "metadata": {},
     "output_type": "execute_result"
    }
   ],
   "source": [
    "A.union(B)  # also write as funtion() union"
   ]
  },
  {
   "cell_type": "code",
   "execution_count": 52,
   "id": "74ca87d7-f10a-4ffb-8e2a-5b3db177d63f",
   "metadata": {},
   "outputs": [
    {
     "data": {
      "text/plain": [
       "{1, 2, 3, 4, 5, 6, 7, 8, 9, 10}"
      ]
     },
     "execution_count": 52,
     "metadata": {},
     "output_type": "execute_result"
    }
   ],
   "source": [
    "A.union(B,C)"
   ]
  },
  {
   "cell_type": "code",
   "execution_count": 55,
   "id": "31ab05aa-8c7e-4b19-870a-104c73e351ef",
   "metadata": {},
   "outputs": [],
   "source": [
    "A.update(B,C)  # A will be the updated version of A B and C"
   ]
  },
  {
   "cell_type": "code",
   "execution_count": 56,
   "id": "5404723e-0248-4ea6-bfba-16a59770eb61",
   "metadata": {},
   "outputs": [
    {
     "data": {
      "text/plain": [
       "{1, 2, 3, 4, 5, 6, 7, 8, 9, 10}"
      ]
     },
     "execution_count": 56,
     "metadata": {},
     "output_type": "execute_result"
    }
   ],
   "source": [
    "A"
   ]
  },
  {
   "cell_type": "markdown",
   "id": "251b3e9a-0a7f-4946-ab96-bc152dde5a7b",
   "metadata": {},
   "source": [
    "### Intersection"
   ]
  },
  {
   "cell_type": "code",
   "execution_count": 57,
   "id": "6f4cc743-30ad-4186-8baf-1c1700aa881e",
   "metadata": {},
   "outputs": [],
   "source": [
    "A = {1,2,3,4,5}\n",
    "B = {4,5,6,7,8}"
   ]
  },
  {
   "cell_type": "code",
   "execution_count": 58,
   "id": "cd6e3a8b-dd5b-40d0-87bd-1af5721b0153",
   "metadata": {},
   "outputs": [
    {
     "data": {
      "text/plain": [
       "{4, 5}"
      ]
     },
     "execution_count": 58,
     "metadata": {},
     "output_type": "execute_result"
    }
   ],
   "source": [
    "A & B # intersection is denoted by &"
   ]
  },
  {
   "cell_type": "code",
   "execution_count": 59,
   "id": "c299bbaf-e183-4928-91fe-0e4614b18995",
   "metadata": {},
   "outputs": [
    {
     "data": {
      "text/plain": [
       "{4, 5}"
      ]
     },
     "execution_count": 59,
     "metadata": {},
     "output_type": "execute_result"
    }
   ],
   "source": [
    "A.intersection(B) # Also can wirte in intersection()"
   ]
  },
  {
   "cell_type": "code",
   "execution_count": 61,
   "id": "26c8527d-ea6f-4c41-9623-050dd5588a8c",
   "metadata": {},
   "outputs": [
    {
     "data": {
      "text/plain": [
       "{4, 5}"
      ]
     },
     "execution_count": 61,
     "metadata": {},
     "output_type": "execute_result"
    }
   ],
   "source": [
    "A.intersection_update(B)\n",
    "A"
   ]
  },
  {
   "cell_type": "markdown",
   "id": "f6a75d8d-295c-498b-9ae7-2650f49b1d57",
   "metadata": {},
   "source": [
    "### Difference"
   ]
  },
  {
   "cell_type": "code",
   "execution_count": 62,
   "id": "56a980bd-0896-4b0c-bc5f-677dba419d45",
   "metadata": {},
   "outputs": [],
   "source": [
    "A = {1,2,3,4,5}\n",
    "B = {4,5,6,7,8}"
   ]
  },
  {
   "cell_type": "code",
   "execution_count": 63,
   "id": "b6930bfe-6042-44fc-8c07-a860a295d9c4",
   "metadata": {},
   "outputs": [
    {
     "data": {
      "text/plain": [
       "{1, 2, 3}"
      ]
     },
     "execution_count": 63,
     "metadata": {},
     "output_type": "execute_result"
    }
   ],
   "source": [
    "A - B # set of element that are only avaible in A & B"
   ]
  },
  {
   "cell_type": "code",
   "execution_count": 64,
   "id": "7353f222-0464-4783-8f19-b33106ef36bb",
   "metadata": {},
   "outputs": [
    {
     "data": {
      "text/plain": [
       "{6, 7, 8}"
      ]
     },
     "execution_count": 64,
     "metadata": {},
     "output_type": "execute_result"
    }
   ],
   "source": [
    "B - A"
   ]
  },
  {
   "cell_type": "code",
   "execution_count": 65,
   "id": "09927bdd-d670-4817-9504-a0a42c829c33",
   "metadata": {},
   "outputs": [
    {
     "data": {
      "text/plain": [
       "{6, 7, 8}"
      ]
     },
     "execution_count": 65,
     "metadata": {},
     "output_type": "execute_result"
    }
   ],
   "source": [
    "B.difference(A)"
   ]
  },
  {
   "cell_type": "code",
   "execution_count": 67,
   "id": "6c88482c-d624-45c5-bdc2-68a1c776ae9a",
   "metadata": {},
   "outputs": [
    {
     "data": {
      "text/plain": [
       "{6, 7, 8}"
      ]
     },
     "execution_count": 67,
     "metadata": {},
     "output_type": "execute_result"
    }
   ],
   "source": [
    "B.difference_update(A)\n",
    "B"
   ]
  },
  {
   "cell_type": "markdown",
   "id": "068ba616-be04-4ed5-8fca-ef56adfe74a5",
   "metadata": {},
   "source": [
    "## symmetric difference"
   ]
  },
  {
   "cell_type": "code",
   "execution_count": 68,
   "id": "2f1d3386-ee4b-472d-8bf6-fb11720752c0",
   "metadata": {},
   "outputs": [],
   "source": [
    "A = {1,2,3,4,5}\n",
    "B = {4,5,6,7,8}"
   ]
  },
  {
   "cell_type": "code",
   "execution_count": 69,
   "id": "9d05e9ab-1284-409b-8939-1e8eb119de4f",
   "metadata": {},
   "outputs": [
    {
     "data": {
      "text/plain": [
       "{1, 2, 3, 6, 7, 8}"
      ]
     },
     "execution_count": 69,
     "metadata": {},
     "output_type": "execute_result"
    }
   ],
   "source": [
    "A ^ B # excluded th same element"
   ]
  },
  {
   "cell_type": "code",
   "execution_count": 70,
   "id": "ada2e626-154c-4177-89dc-88812045f7b9",
   "metadata": {},
   "outputs": [
    {
     "data": {
      "text/plain": [
       "{1, 2, 3, 6, 7, 8}"
      ]
     },
     "execution_count": 70,
     "metadata": {},
     "output_type": "execute_result"
    }
   ],
   "source": [
    "A.symmetric_difference(B)"
   ]
  },
  {
   "cell_type": "code",
   "execution_count": 71,
   "id": "d2b30f66-caf4-4d45-abde-e49d07ba4480",
   "metadata": {},
   "outputs": [
    {
     "data": {
      "text/plain": [
       "{1, 2, 3, 6, 7, 8}"
      ]
     },
     "execution_count": 71,
     "metadata": {},
     "output_type": "execute_result"
    }
   ],
   "source": [
    "A.symmetric_difference_update(B)\n",
    "A"
   ]
  },
  {
   "cell_type": "markdown",
   "id": "baf484b4-e667-43df-86cd-7011a6222dce",
   "metadata": {},
   "source": [
    "## superset, subset and Disjoint"
   ]
  },
  {
   "cell_type": "code",
   "execution_count": 72,
   "id": "73e9d572-4fdd-4e81-9fab-871f55ab005f",
   "metadata": {},
   "outputs": [],
   "source": [
    "# subset element will be present in superset also it a inheritance of superset\n",
    "# superset have some common elements of subset, parenting of subset\n",
    "# disjoint element totally different from subset and superset"
   ]
  },
  {
   "cell_type": "code",
   "execution_count": 73,
   "id": "9123373e-a5d8-470f-8bc0-b07cddf1a383",
   "metadata": {},
   "outputs": [],
   "source": [
    "A = {1,2,3,4,5,6,7,8,9}\n",
    "B = {3,4,5,6,7,8}\n",
    "C = {10,20,30,40}"
   ]
  },
  {
   "cell_type": "code",
   "execution_count": 74,
   "id": "017fc22c-214b-48e6-bcaa-db2d9ac76fa9",
   "metadata": {},
   "outputs": [
    {
     "data": {
      "text/plain": [
       "True"
      ]
     },
     "execution_count": 74,
     "metadata": {},
     "output_type": "execute_result"
    }
   ],
   "source": [
    "B.issubset(A)"
   ]
  },
  {
   "cell_type": "code",
   "execution_count": 75,
   "id": "d18a8473-146b-497d-8a86-481b31ec01b4",
   "metadata": {},
   "outputs": [
    {
     "data": {
      "text/plain": [
       "True"
      ]
     },
     "execution_count": 75,
     "metadata": {},
     "output_type": "execute_result"
    }
   ],
   "source": [
    "A.issuperset(B)"
   ]
  },
  {
   "cell_type": "code",
   "execution_count": 76,
   "id": "7383c072-37a9-47bc-bccb-f13b52ce16d1",
   "metadata": {},
   "outputs": [
    {
     "data": {
      "text/plain": [
       "True"
      ]
     },
     "execution_count": 76,
     "metadata": {},
     "output_type": "execute_result"
    }
   ],
   "source": [
    "C.isdisjoint(A)"
   ]
  },
  {
   "cell_type": "code",
   "execution_count": 77,
   "id": "f812137a-cfb6-40d2-904f-f3ad2ef4444e",
   "metadata": {},
   "outputs": [
    {
     "data": {
      "text/plain": [
       "True"
      ]
     },
     "execution_count": 77,
     "metadata": {},
     "output_type": "execute_result"
    }
   ],
   "source": [
    "C.isdisjoint(B)"
   ]
  },
  {
   "cell_type": "code",
   "execution_count": 78,
   "id": "d158a256-dca4-48d8-abb8-b515372a0ffe",
   "metadata": {},
   "outputs": [
    {
     "data": {
      "text/plain": [
       "False"
      ]
     },
     "execution_count": 78,
     "metadata": {},
     "output_type": "execute_result"
    }
   ],
   "source": [
    "B.isdisjoint(A)"
   ]
  },
  {
   "cell_type": "code",
   "execution_count": 79,
   "id": "7cfddeb1-be5f-4fb3-8ab6-b6b58ee46733",
   "metadata": {},
   "outputs": [
    {
     "data": {
      "text/plain": [
       "False"
      ]
     },
     "execution_count": 79,
     "metadata": {},
     "output_type": "execute_result"
    }
   ],
   "source": [
    "A.isdisjoint(B)"
   ]
  },
  {
   "cell_type": "code",
   "execution_count": 80,
   "id": "edc515e6-dbd4-4f87-8695-bb17800b6c14",
   "metadata": {},
   "outputs": [
    {
     "data": {
      "text/plain": [
       "True"
      ]
     },
     "execution_count": 80,
     "metadata": {},
     "output_type": "execute_result"
    }
   ],
   "source": [
    "B.isdisjoint(C)"
   ]
  },
  {
   "cell_type": "code",
   "execution_count": 81,
   "id": "5c8c2c25-d8cb-473a-bedc-bfc169f8afc5",
   "metadata": {},
   "outputs": [
    {
     "data": {
      "text/plain": [
       "{1, 2, 3, 4, 5, 6, 7, 8, 9}"
      ]
     },
     "execution_count": 81,
     "metadata": {},
     "output_type": "execute_result"
    }
   ],
   "source": [
    "A"
   ]
  },
  {
   "cell_type": "code",
   "execution_count": 85,
   "id": "3bd00b86-c380-4159-a2da-aeea1025e2c4",
   "metadata": {},
   "outputs": [
    {
     "data": {
      "text/plain": [
       "45"
      ]
     },
     "execution_count": 85,
     "metadata": {},
     "output_type": "execute_result"
    }
   ],
   "source": [
    "sum(A) # sum of all the elements"
   ]
  },
  {
   "cell_type": "code",
   "execution_count": 86,
   "id": "5dd59817-b2c9-4ec4-9ca0-bdaa7e1ef287",
   "metadata": {},
   "outputs": [
    {
     "data": {
      "text/plain": [
       "9"
      ]
     },
     "execution_count": 86,
     "metadata": {},
     "output_type": "execute_result"
    }
   ],
   "source": [
    "max(A)  # max value in the set"
   ]
  },
  {
   "cell_type": "code",
   "execution_count": 87,
   "id": "33fd5646-aefd-4512-a6b5-19aff9fb8f08",
   "metadata": {},
   "outputs": [
    {
     "data": {
      "text/plain": [
       "1"
      ]
     },
     "execution_count": 87,
     "metadata": {},
     "output_type": "execute_result"
    }
   ],
   "source": [
    "min(A)  # min value in A"
   ]
  },
  {
   "cell_type": "code",
   "execution_count": 88,
   "id": "2fbc07d5-663e-41e4-86eb-0f6a4e46801c",
   "metadata": {},
   "outputs": [
    {
     "data": {
      "text/plain": [
       "9"
      ]
     },
     "execution_count": 88,
     "metadata": {},
     "output_type": "execute_result"
    }
   ],
   "source": [
    "len(A)"
   ]
  },
  {
   "cell_type": "code",
   "execution_count": 89,
   "id": "71654dd5-8c28-4398-a7a4-a4a101019e39",
   "metadata": {},
   "outputs": [
    {
     "data": {
      "text/plain": [
       "[(0, 1), (1, 2), (2, 3), (3, 4), (4, 5), (5, 6), (6, 7), (7, 8), (8, 9)]"
      ]
     },
     "execution_count": 89,
     "metadata": {},
     "output_type": "execute_result"
    }
   ],
   "source": [
    "list(enumerate(A))"
   ]
  },
  {
   "cell_type": "code",
   "execution_count": null,
   "id": "088fab12-268d-4ace-b961-9f19b78f993f",
   "metadata": {},
   "outputs": [],
   "source": [
    "D "
   ]
  }
 ],
 "metadata": {
  "kernelspec": {
   "display_name": "Python 3 (ipykernel)",
   "language": "python",
   "name": "python3"
  },
  "language_info": {
   "codemirror_mode": {
    "name": "ipython",
    "version": 3
   },
   "file_extension": ".py",
   "mimetype": "text/x-python",
   "name": "python",
   "nbconvert_exporter": "python",
   "pygments_lexer": "ipython3",
   "version": "3.12.7"
  }
 },
 "nbformat": 4,
 "nbformat_minor": 5
}
