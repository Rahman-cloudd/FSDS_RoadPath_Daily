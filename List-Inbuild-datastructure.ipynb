{
 "cells": [
  {
   "cell_type": "code",
   "execution_count": 3,
   "id": "dd4cec50-9604-4f0f-b0e9-d50f5f95bb02",
   "metadata": {},
   "outputs": [],
   "source": [
    "a = 10"
   ]
  },
  {
   "cell_type": "code",
   "execution_count": 4,
   "id": "c6c5ef30-926d-4517-81c0-25cbbd3f34dc",
   "metadata": {},
   "outputs": [
    {
     "ename": "SyntaxError",
     "evalue": "invalid decimal literal (482919702.py, line 1)",
     "output_type": "error",
     "traceback": [
      "\u001b[1;36m  Cell \u001b[1;32mIn[4], line 1\u001b[1;36m\u001b[0m\n\u001b[1;33m    1a = 10\u001b[0m\n\u001b[1;37m    ^\u001b[0m\n\u001b[1;31mSyntaxError\u001b[0m\u001b[1;31m:\u001b[0m invalid decimal literal\n"
     ]
    }
   ],
   "source": [
    "1a = 10"
   ]
  },
  {
   "cell_type": "code",
   "execution_count": 5,
   "id": "98d66fe7-d564-40f5-9c75-b1305d8a6250",
   "metadata": {},
   "outputs": [],
   "source": [
    "a1 = 20"
   ]
  },
  {
   "cell_type": "code",
   "execution_count": 6,
   "id": "41bdb41f-8fee-45b5-9ee1-bea99e57241e",
   "metadata": {},
   "outputs": [
    {
     "data": {
      "text/plain": [
       "20"
      ]
     },
     "execution_count": 6,
     "metadata": {},
     "output_type": "execute_result"
    }
   ],
   "source": [
    "a1"
   ]
  },
  {
   "cell_type": "code",
   "execution_count": 7,
   "id": "8d05a934-2846-4e3b-bfda-de735208cd56",
   "metadata": {},
   "outputs": [
    {
     "ename": "SyntaxError",
     "evalue": "invalid syntax (3110738997.py, line 1)",
     "output_type": "error",
     "traceback": [
      "\u001b[1;36m  Cell \u001b[1;32mIn[7], line 1\u001b[1;36m\u001b[0m\n\u001b[1;33m    a& = 9\u001b[0m\n\u001b[1;37m       ^\u001b[0m\n\u001b[1;31mSyntaxError\u001b[0m\u001b[1;31m:\u001b[0m invalid syntax\n"
     ]
    }
   ],
   "source": [
    "a& = 9"
   ]
  },
  {
   "cell_type": "code",
   "execution_count": 8,
   "id": "14f3626e-5633-4a4b-be40-8284c0299706",
   "metadata": {},
   "outputs": [],
   "source": [
    "# Datatypes\n",
    "# int ( numbers)\n",
    "# float ( interger having decimal in their value)\n",
    "# str ( text form)\n",
    "# boolean ( value either True or False)\n",
    "# complex ( equation [ i+2j]) \n",
    "# interpeter will execute the code line by line \n",
    "# compiler excute the whole programe at a time"
   ]
  },
  {
   "cell_type": "code",
   "execution_count": 9,
   "id": "86676cde-7c4e-45fd-b60f-b17e98688f66",
   "metadata": {},
   "outputs": [],
   "source": [
    "# type conversion and  Type casting\n",
    "# it will convert one datatype to another automatically \n",
    "# but type casting means we have to convert the one datatype to another manually\n"
   ]
  },
  {
   "cell_type": "code",
   "execution_count": 10,
   "id": "d94bc294-1858-4bc0-8383-a92b6452fe53",
   "metadata": {},
   "outputs": [
    {
     "ename": "NameError",
     "evalue": "name 'copy' is not defined",
     "output_type": "error",
     "traceback": [
      "\u001b[1;31m---------------------------------------------------------------------------\u001b[0m",
      "\u001b[1;31mNameError\u001b[0m                                 Traceback (most recent call last)",
      "Cell \u001b[1;32mIn[10], line 3\u001b[0m\n\u001b[0;32m      1\u001b[0m \u001b[38;5;66;03m# Datastructure \u001b[39;00m\n\u001b[0;32m      2\u001b[0m \u001b[38;5;66;03m# Inbuild datastructure and User define Datastructure\u001b[39;00m\n\u001b[1;32m----> 3\u001b[0m \u001b[38;5;241m-\u001b[39m \u001b[38;5;28mlist\u001b[39m ( copy,append,remove,add,pop,sort,count,extend,clear,insert,reverse)\n\u001b[0;32m      4\u001b[0m \u001b[38;5;241m-\u001b[39m \u001b[38;5;28mtuple\u001b[39m ( count, index)\n\u001b[0;32m      5\u001b[0m \u001b[38;5;241m-\u001b[39m \u001b[38;5;28mset\u001b[39m\n",
      "\u001b[1;31mNameError\u001b[0m: name 'copy' is not defined"
     ]
    }
   ],
   "source": [
    "# Datastructure \n",
    "# Inbuild datastructure and User define Datastructure\n",
    "- list ( copy,append,remove,add,pop,sort,count,extend,clear,insert,reverse)\n",
    "- tuple ( count, index)\n",
    "- set\n",
    "- dict "
   ]
  },
  {
   "cell_type": "code",
   "execution_count": 12,
   "id": "6245d2a6-659f-4796-b999-94a1a96d64ef",
   "metadata": {},
   "outputs": [],
   "source": [
    "list1 = []"
   ]
  },
  {
   "cell_type": "code",
   "execution_count": 13,
   "id": "e117c588-0493-4be7-b3cc-2b30d17c32c5",
   "metadata": {},
   "outputs": [
    {
     "name": "stdout",
     "output_type": "stream",
     "text": [
      "<class 'list'>\n"
     ]
    }
   ],
   "source": [
    "print(type(list1))"
   ]
  },
  {
   "cell_type": "code",
   "execution_count": 14,
   "id": "6198b103-dc5c-4eb6-9752-a9f8537917b8",
   "metadata": {},
   "outputs": [],
   "source": [
    "list2 = [10,20,30]"
   ]
  },
  {
   "cell_type": "code",
   "execution_count": 15,
   "id": "3b29d0f8-9a77-4bd9-9781-29a60fb3b3eb",
   "metadata": {},
   "outputs": [],
   "source": [
    "list3 = [10.77,30.66,60.88]"
   ]
  },
  {
   "cell_type": "code",
   "execution_count": 16,
   "id": "190cac77-54d4-43cb-b3de-73369461e3f7",
   "metadata": {},
   "outputs": [],
   "source": [
    "list4 = [ 'one','two','three']"
   ]
  },
  {
   "cell_type": "code",
   "execution_count": 17,
   "id": "82ac1f93-08b9-40fe-8081-75c17a82a6ef",
   "metadata": {},
   "outputs": [],
   "source": [
    "list5 = ['Asis',25,[50,100],[150,90]]  # When we are creating list in the list then its called as \"Neested List\""
   ]
  },
  {
   "cell_type": "code",
   "execution_count": 18,
   "id": "a8f7f0ac-6d30-40f4-9418-c7c555449504",
   "metadata": {},
   "outputs": [],
   "source": [
    "list6 = [100,'Asif',17.33] # we can store different datatypes in the List\n"
   ]
  },
  {
   "cell_type": "code",
   "execution_count": 19,
   "id": "433b8261-7a37-4bfd-9a78-18f00b891846",
   "metadata": {},
   "outputs": [],
   "source": [
    "list7 = ['Asif',25,[50,100],[150,90],{'jhon','David'}]"
   ]
  },
  {
   "cell_type": "code",
   "execution_count": 20,
   "id": "f0865bad-f3c3-44f7-ad6b-762a0e03901d",
   "metadata": {},
   "outputs": [
    {
     "data": {
      "text/plain": [
       "3"
      ]
     },
     "execution_count": 20,
     "metadata": {},
     "output_type": "execute_result"
    }
   ],
   "source": [
    "len(list6)"
   ]
  },
  {
   "cell_type": "code",
   "execution_count": 21,
   "id": "9a89043f-da6f-4f92-84b7-3796df0a71d5",
   "metadata": {},
   "outputs": [],
   "source": [
    "# Indexing \n",
    "# There are two types of indexings \n",
    "# forword indexing and backword indexing\n",
    "# forword indexing start with 0 and it is left to right\n",
    "# backward indexing start with -1 and it is right to left"
   ]
  },
  {
   "cell_type": "markdown",
   "id": "1ffa8ee2-4c62-49ce-bd25-849b6a39bed8",
   "metadata": {},
   "source": [
    "## list indexing"
   ]
  },
  {
   "cell_type": "code",
   "execution_count": 22,
   "id": "c299f868-2cac-4d48-9599-889dc728c5cc",
   "metadata": {},
   "outputs": [
    {
     "data": {
      "text/plain": [
       "10"
      ]
     },
     "execution_count": 22,
     "metadata": {},
     "output_type": "execute_result"
    }
   ],
   "source": [
    "list2[0]"
   ]
  },
  {
   "cell_type": "code",
   "execution_count": 23,
   "id": "dbbeeb16-b1e0-4adb-9528-37a442fe6282",
   "metadata": {},
   "outputs": [
    {
     "data": {
      "text/plain": [
       "'one'"
      ]
     },
     "execution_count": 23,
     "metadata": {},
     "output_type": "execute_result"
    }
   ],
   "source": [
    "list4[0]\n"
   ]
  },
  {
   "cell_type": "code",
   "execution_count": 24,
   "id": "90e88c23-0710-4253-8e24-54a1fd6e8b92",
   "metadata": {},
   "outputs": [
    {
     "data": {
      "text/plain": [
       "['Asif', {'David', 'jhon'}]"
      ]
     },
     "execution_count": 24,
     "metadata": {},
     "output_type": "execute_result"
    }
   ],
   "source": [
    "list7[::4]"
   ]
  },
  {
   "cell_type": "code",
   "execution_count": 30,
   "id": "ec0935d4-956b-4bcc-8e59-159930067cfb",
   "metadata": {},
   "outputs": [
    {
     "data": {
      "text/plain": [
       "'o'"
      ]
     },
     "execution_count": 30,
     "metadata": {},
     "output_type": "execute_result"
    }
   ],
   "source": [
    "list4[0][0]"
   ]
  },
  {
   "cell_type": "code",
   "execution_count": 31,
   "id": "89bc785c-b53f-45a9-adc9-6695ed6dbe8c",
   "metadata": {},
   "outputs": [
    {
     "data": {
      "text/plain": [
       "'three'"
      ]
     },
     "execution_count": 31,
     "metadata": {},
     "output_type": "execute_result"
    }
   ],
   "source": [
    "list4[-1]"
   ]
  },
  {
   "cell_type": "code",
   "execution_count": 32,
   "id": "98b571e8-3baf-4cde-ba84-9572f4878dce",
   "metadata": {},
   "outputs": [
    {
     "data": {
      "text/plain": [
       "[150, 90]"
      ]
     },
     "execution_count": 32,
     "metadata": {},
     "output_type": "execute_result"
    }
   ],
   "source": [
    "list5[-1]"
   ]
  },
  {
   "cell_type": "code",
   "execution_count": 33,
   "id": "dfef1447-e0c5-4989-b50b-e7a7e0faa49c",
   "metadata": {},
   "outputs": [
    {
     "data": {
      "text/plain": [
       "30"
      ]
     },
     "execution_count": 33,
     "metadata": {},
     "output_type": "execute_result"
    }
   ],
   "source": [
    "list2[2]"
   ]
  },
  {
   "cell_type": "code",
   "execution_count": 34,
   "id": "4929a27f-41cd-495c-9f9e-20e637a0ab60",
   "metadata": {},
   "outputs": [
    {
     "data": {
      "text/plain": [
       "['Asif', 25, [50, 100], [150, 90], {'David', 'jhon'}]"
      ]
     },
     "execution_count": 34,
     "metadata": {},
     "output_type": "execute_result"
    }
   ],
   "source": [
    "list7"
   ]
  },
  {
   "cell_type": "markdown",
   "id": "41aeb49f-83af-4bf3-b1ef-7602d75d581e",
   "metadata": {},
   "source": [
    " # List Slicing"
   ]
  },
  {
   "cell_type": "code",
   "execution_count": 38,
   "id": "df89e962-8453-4dff-a6cc-ea17912219de",
   "metadata": {},
   "outputs": [],
   "source": [
    "mylist = ['one','two','three','four','five','six','seven','eight']"
   ]
  },
  {
   "cell_type": "code",
   "execution_count": 39,
   "id": "80a29b15-c6ca-422e-8bc8-3050785e12de",
   "metadata": {},
   "outputs": [
    {
     "data": {
      "text/plain": [
       "['one', 'two', 'three']"
      ]
     },
     "execution_count": 39,
     "metadata": {},
     "output_type": "execute_result"
    }
   ],
   "source": [
    "mylist[0:3] # it will give all the elements from the list from 0 index to 3rd"
   ]
  },
  {
   "cell_type": "code",
   "execution_count": 40,
   "id": "89429141-bc07-4d8b-b1de-52fc7d991036",
   "metadata": {},
   "outputs": [
    {
     "data": {
      "text/plain": [
       "['three', 'four', 'five']"
      ]
     },
     "execution_count": 40,
     "metadata": {},
     "output_type": "execute_result"
    }
   ],
   "source": [
    "mylist[2:5]"
   ]
  },
  {
   "cell_type": "code",
   "execution_count": 41,
   "id": "fe92c62b-9356-45d3-9a20-604cd90a479a",
   "metadata": {},
   "outputs": [
    {
     "data": {
      "text/plain": [
       "['one', 'two', 'three']"
      ]
     },
     "execution_count": 41,
     "metadata": {},
     "output_type": "execute_result"
    }
   ],
   "source": [
    "mylist[:3]"
   ]
  },
  {
   "cell_type": "code",
   "execution_count": 42,
   "id": "cb8a16d7-ff4b-489c-9324-af3360d23c6c",
   "metadata": {},
   "outputs": [
    {
     "data": {
      "text/plain": [
       "['one', 'two']"
      ]
     },
     "execution_count": 42,
     "metadata": {},
     "output_type": "execute_result"
    }
   ],
   "source": [
    "mylist[:2]"
   ]
  },
  {
   "cell_type": "code",
   "execution_count": 43,
   "id": "5e0bd2e3-276d-41c9-9381-8cc62ef11667",
   "metadata": {},
   "outputs": [
    {
     "data": {
      "text/plain": [
       "['six', 'seven', 'eight']"
      ]
     },
     "execution_count": 43,
     "metadata": {},
     "output_type": "execute_result"
    }
   ],
   "source": [
    "mylist[-3:] # it will return last three elements"
   ]
  },
  {
   "cell_type": "code",
   "execution_count": 44,
   "id": "e68c3e5b-f4bf-4473-b9b6-80029562c71a",
   "metadata": {},
   "outputs": [
    {
     "data": {
      "text/plain": [
       "['seven', 'eight']"
      ]
     },
     "execution_count": 44,
     "metadata": {},
     "output_type": "execute_result"
    }
   ],
   "source": [
    "mylist[-2:]"
   ]
  },
  {
   "cell_type": "code",
   "execution_count": 45,
   "id": "86d60ffb-6bec-4a28-ad81-33f993683537",
   "metadata": {},
   "outputs": [
    {
     "data": {
      "text/plain": [
       "'eight'"
      ]
     },
     "execution_count": 45,
     "metadata": {},
     "output_type": "execute_result"
    }
   ],
   "source": [
    "mylist[-1]"
   ]
  },
  {
   "cell_type": "code",
   "execution_count": 46,
   "id": "45f2a63b-a0ff-4fdc-90a6-d9d3ec75b137",
   "metadata": {},
   "outputs": [
    {
     "data": {
      "text/plain": [
       "['one', 'two', 'three', 'four', 'five', 'six', 'seven', 'eight']"
      ]
     },
     "execution_count": 46,
     "metadata": {},
     "output_type": "execute_result"
    }
   ],
   "source": [
    "mylist[:] # it gives the whole list elements"
   ]
  },
  {
   "cell_type": "markdown",
   "id": "9c5b131b-4691-4c00-a736-014c569fdb30",
   "metadata": {},
   "source": [
    "# list functions"
   ]
  },
  {
   "cell_type": "code",
   "execution_count": 48,
   "id": "f94edb2f-92b8-4f44-9a39-6027265a96fe",
   "metadata": {},
   "outputs": [
    {
     "data": {
      "text/plain": [
       "['one', 'two', 'three', 'four', 'five', 'six', 'seven', 'eight']"
      ]
     },
     "execution_count": 48,
     "metadata": {},
     "output_type": "execute_result"
    }
   ],
   "source": [
    "mylist"
   ]
  },
  {
   "cell_type": "code",
   "execution_count": 49,
   "id": "a25aa376-ac89-44f2-b527-e1feee2febcd",
   "metadata": {},
   "outputs": [],
   "source": [
    "mylist.append('nine') # append add the element bydefoult in last"
   ]
  },
  {
   "cell_type": "code",
   "execution_count": 50,
   "id": "1fc4aa3d-f8ef-437a-8c1a-f3a3beb69983",
   "metadata": {},
   "outputs": [
    {
     "data": {
      "text/plain": [
       "['one', 'two', 'three', 'four', 'five', 'six', 'seven', 'eight', 'nine']"
      ]
     },
     "execution_count": 50,
     "metadata": {},
     "output_type": "execute_result"
    }
   ],
   "source": [
    "mylist"
   ]
  },
  {
   "cell_type": "code",
   "execution_count": 52,
   "id": "422ec96f-e4f2-4f03-b254-176a11d7b28b",
   "metadata": {},
   "outputs": [
    {
     "name": "stdin",
     "output_type": "stream",
     "text": [
      "enter your name:  Abdul Rahman\n"
     ]
    },
    {
     "data": {
      "text/plain": [
       "'Abdul Rahman'"
      ]
     },
     "execution_count": 52,
     "metadata": {},
     "output_type": "execute_result"
    }
   ],
   "source": [
    "input('enter your name: ')"
   ]
  },
  {
   "cell_type": "code",
   "execution_count": 64,
   "id": "09c70412-611a-493c-89dd-29613a962da8",
   "metadata": {},
   "outputs": [],
   "source": [
    "a =float(5)\n",
    "print = a"
   ]
  },
  {
   "cell_type": "code",
   "execution_count": 70,
   "id": "60decf6c-a7f4-4f10-8466-e9e039b0fb9d",
   "metadata": {},
   "outputs": [
    {
     "data": {
      "text/plain": [
       "5.0"
      ]
     },
     "execution_count": 70,
     "metadata": {},
     "output_type": "execute_result"
    }
   ],
   "source": [
    "a"
   ]
  },
  {
   "cell_type": "code",
   "execution_count": 72,
   "id": "7a5aa1c9-915a-4cbc-8701-a59e53bf2295",
   "metadata": {},
   "outputs": [],
   "source": [
    "mylist.insert(9,'ten') # insert add a element according to the given index, it can add only one element at a time"
   ]
  },
  {
   "cell_type": "code",
   "execution_count": 73,
   "id": "66a065d7-578a-4874-b200-5c0a3b526b22",
   "metadata": {},
   "outputs": [
    {
     "data": {
      "text/plain": [
       "['one', 'two', 'three', 'four', 'five', 'six', 'seven', 'eight', 'nine', 'ten']"
      ]
     },
     "execution_count": 73,
     "metadata": {},
     "output_type": "execute_result"
    }
   ],
   "source": [
    "mylist"
   ]
  },
  {
   "cell_type": "code",
   "execution_count": 81,
   "id": "58792091-b44e-42b7-984b-13b757976696",
   "metadata": {},
   "outputs": [
    {
     "data": {
      "text/plain": [
       "['one',\n",
       " 'ONE',\n",
       " 'one',\n",
       " 'one',\n",
       " 'two',\n",
       " 'three',\n",
       " 'four',\n",
       " 'five',\n",
       " 'six',\n",
       " 'seven',\n",
       " 'eight',\n",
       " 'nine',\n",
       " 'ten']"
      ]
     },
     "execution_count": 81,
     "metadata": {},
     "output_type": "execute_result"
    }
   ],
   "source": [
    "mylist"
   ]
  },
  {
   "cell_type": "code",
   "execution_count": 89,
   "id": "fd977aae-f276-41b4-9f3a-26d3784fd824",
   "metadata": {},
   "outputs": [
    {
     "data": {
      "text/plain": [
       "['two', 'three', 'four', 'five', 'six', 'seven', 'eight', 'nine', 'ten']"
      ]
     },
     "execution_count": 89,
     "metadata": {},
     "output_type": "execute_result"
    }
   ],
   "source": [
    "mylist.remove('one') # remove can delete a single element at a time \n",
    "mylist"
   ]
  },
  {
   "cell_type": "code",
   "execution_count": 87,
   "id": "a5dbad86-f2d0-4fde-8463-b98db0c31e64",
   "metadata": {},
   "outputs": [],
   "source": [
    "mylist.remove('ONE')"
   ]
  },
  {
   "cell_type": "code",
   "execution_count": 88,
   "id": "2dca2ee2-632e-4970-8c27-d90ca91e0d0a",
   "metadata": {},
   "outputs": [
    {
     "data": {
      "text/plain": [
       "['one', 'two', 'three', 'four', 'five', 'six', 'seven', 'eight', 'nine', 'ten']"
      ]
     },
     "execution_count": 88,
     "metadata": {},
     "output_type": "execute_result"
    }
   ],
   "source": [
    "mylist"
   ]
  },
  {
   "cell_type": "code",
   "execution_count": 93,
   "id": "a1c577d6-0fe6-46f7-9976-1ccfc9c8e1fa",
   "metadata": {},
   "outputs": [
    {
     "data": {
      "text/plain": [
       "'eight'"
      ]
     },
     "execution_count": 93,
     "metadata": {},
     "output_type": "execute_result"
    }
   ],
   "source": [
    "mylist.pop() # pop remove the last element bydefoult and also can remove the given index"
   ]
  },
  {
   "cell_type": "code",
   "execution_count": 94,
   "id": "bba98764-87d7-4bff-bd59-8f934e2543cb",
   "metadata": {},
   "outputs": [
    {
     "data": {
      "text/plain": [
       "['two', 'three', 'four', 'five', 'six', 'seven']"
      ]
     },
     "execution_count": 94,
     "metadata": {},
     "output_type": "execute_result"
    }
   ],
   "source": [
    "mylist"
   ]
  },
  {
   "cell_type": "code",
   "execution_count": 95,
   "id": "407c8782-3f13-4d27-8211-838066d50339",
   "metadata": {},
   "outputs": [
    {
     "data": {
      "text/plain": [
       "'seven'"
      ]
     },
     "execution_count": 95,
     "metadata": {},
     "output_type": "execute_result"
    }
   ],
   "source": [
    "mylist.pop(5)"
   ]
  },
  {
   "cell_type": "code",
   "execution_count": 96,
   "id": "d33a9c17-f505-459d-8c1d-ba401ebe2ae0",
   "metadata": {},
   "outputs": [
    {
     "data": {
      "text/plain": [
       "['two', 'three', 'four', 'five', 'six']"
      ]
     },
     "execution_count": 96,
     "metadata": {},
     "output_type": "execute_result"
    }
   ],
   "source": [
    "mylist"
   ]
  },
  {
   "cell_type": "code",
   "execution_count": 98,
   "id": "3e29876e-9b3d-4b01-9b6a-545f834ff059",
   "metadata": {},
   "outputs": [],
   "source": [
    "mylist.append('seven',)"
   ]
  },
  {
   "cell_type": "code",
   "execution_count": 101,
   "id": "88e6749c-b573-4e16-b4b5-7a0a5e78f817",
   "metadata": {},
   "outputs": [],
   "source": [
    "mylist.insert(0,'one')"
   ]
  },
  {
   "cell_type": "code",
   "execution_count": 102,
   "id": "e92080cc-b618-4351-a6b0-985d9bb4a2a0",
   "metadata": {},
   "outputs": [
    {
     "data": {
      "text/plain": [
       "['one', 'two', 'one', 'three', 'four', 'five', 'six', 'seven']"
      ]
     },
     "execution_count": 102,
     "metadata": {},
     "output_type": "execute_result"
    }
   ],
   "source": [
    "mylist"
   ]
  },
  {
   "cell_type": "code",
   "execution_count": 103,
   "id": "7c0b3166-7075-41e3-b013-0b8033d1a47e",
   "metadata": {},
   "outputs": [
    {
     "data": {
      "text/plain": [
       "'one'"
      ]
     },
     "execution_count": 103,
     "metadata": {},
     "output_type": "execute_result"
    }
   ],
   "source": [
    "mylist.pop(2)"
   ]
  },
  {
   "cell_type": "code",
   "execution_count": 106,
   "id": "4d655351-cfe1-4765-90f8-ef52cb6938f2",
   "metadata": {},
   "outputs": [],
   "source": [
    "mylist.insert(7,'eight')"
   ]
  },
  {
   "cell_type": "code",
   "execution_count": 107,
   "id": "85106230-3a23-4e27-81ec-6e6601ba9361",
   "metadata": {},
   "outputs": [
    {
     "data": {
      "text/plain": [
       "['one', 'two', 'three', 'four', 'five', 'six', 'eight', 'eight', 'seven']"
      ]
     },
     "execution_count": 107,
     "metadata": {},
     "output_type": "execute_result"
    }
   ],
   "source": [
    "mylist"
   ]
  },
  {
   "cell_type": "code",
   "execution_count": 108,
   "id": "b3b913d8-c0cb-4caf-9e8a-026b06750873",
   "metadata": {},
   "outputs": [],
   "source": [
    "mylist.remove('eight')"
   ]
  },
  {
   "cell_type": "code",
   "execution_count": 109,
   "id": "841ef4c3-d2d7-4280-8611-b408a5f97171",
   "metadata": {},
   "outputs": [
    {
     "data": {
      "text/plain": [
       "['one', 'two', 'three', 'four', 'five', 'six', 'eight', 'seven']"
      ]
     },
     "execution_count": 109,
     "metadata": {},
     "output_type": "execute_result"
    }
   ],
   "source": [
    "mylist"
   ]
  },
  {
   "cell_type": "code",
   "execution_count": 110,
   "id": "20af8456-0ebc-458d-b97f-267c67869b7c",
   "metadata": {},
   "outputs": [],
   "source": [
    "mylist.remove('eight')"
   ]
  },
  {
   "cell_type": "code",
   "execution_count": 111,
   "id": "4c8c932d-dad7-430d-9955-90094162291e",
   "metadata": {},
   "outputs": [
    {
     "data": {
      "text/plain": [
       "['one', 'two', 'three', 'four', 'five', 'six', 'seven']"
      ]
     },
     "execution_count": 111,
     "metadata": {},
     "output_type": "execute_result"
    }
   ],
   "source": [
    "mylist"
   ]
  },
  {
   "cell_type": "code",
   "execution_count": 112,
   "id": "6abea61d-9967-4b79-8395-48f4d7d6e73a",
   "metadata": {},
   "outputs": [],
   "source": [
    "mylist.insert(7,'eight')"
   ]
  },
  {
   "cell_type": "code",
   "execution_count": 113,
   "id": "1ed1118a-08ed-4f54-8c23-2809025fa608",
   "metadata": {},
   "outputs": [
    {
     "data": {
      "text/plain": [
       "['one', 'two', 'three', 'four', 'five', 'six', 'seven', 'eight']"
      ]
     },
     "execution_count": 113,
     "metadata": {},
     "output_type": "execute_result"
    }
   ],
   "source": [
    "mylist"
   ]
  },
  {
   "cell_type": "code",
   "execution_count": 116,
   "id": "4deb08a3-33ba-4476-adba-e3f8824c594c",
   "metadata": {},
   "outputs": [
    {
     "data": {
      "text/plain": [
       "['one', 'two', 'three', 'four', 'five', 'six']"
      ]
     },
     "execution_count": 116,
     "metadata": {},
     "output_type": "execute_result"
    }
   ],
   "source": [
    "del mylist[6] # del remove the specific index from the list and also can delete the whole list\n",
    "mylist"
   ]
  },
  {
   "cell_type": "code",
   "execution_count": 117,
   "id": "92f39dc5-741c-4d48-a332-8ff952951131",
   "metadata": {},
   "outputs": [],
   "source": [
    "# changeing the value of the string\n",
    "mylist[0] = 1\n",
    "mylist[1] = 2\n",
    "mylist[2] = 3"
   ]
  },
  {
   "cell_type": "code",
   "execution_count": 118,
   "id": "5f7a35fb-2a6d-4843-830b-ff675082d5ed",
   "metadata": {},
   "outputs": [
    {
     "data": {
      "text/plain": [
       "[1, 2, 3, 'four', 'five', 'six']"
      ]
     },
     "execution_count": 118,
     "metadata": {},
     "output_type": "execute_result"
    }
   ],
   "source": [
    "mylist"
   ]
  },
  {
   "cell_type": "code",
   "execution_count": 119,
   "id": "0d1e4049-90c5-4a3e-a14e-5f0c239fe176",
   "metadata": {},
   "outputs": [
    {
     "data": {
      "text/plain": [
       "[]"
      ]
     },
     "execution_count": 119,
     "metadata": {},
     "output_type": "execute_result"
    }
   ],
   "source": [
    "# if we have to clear the entire list the we use 'CLEAR'\n",
    "mylist.clear()\n",
    "mylist"
   ]
  },
  {
   "cell_type": "code",
   "execution_count": 120,
   "id": "8dd295c4-ff6c-4825-9be2-638d5741d378",
   "metadata": {},
   "outputs": [
    {
     "ename": "NameError",
     "evalue": "name 'mylist' is not defined",
     "output_type": "error",
     "traceback": [
      "\u001b[1;31m---------------------------------------------------------------------------\u001b[0m",
      "\u001b[1;31mNameError\u001b[0m                                 Traceback (most recent call last)",
      "Cell \u001b[1;32mIn[120], line 2\u001b[0m\n\u001b[0;32m      1\u001b[0m \u001b[38;5;28;01mdel\u001b[39;00m mylist \u001b[38;5;66;03m# delete the whole list\u001b[39;00m\n\u001b[1;32m----> 2\u001b[0m mylist\n",
      "\u001b[1;31mNameError\u001b[0m: name 'mylist' is not defined"
     ]
    }
   ],
   "source": [
    "del mylist # delete the whole list\n",
    "mylist"
   ]
  },
  {
   "cell_type": "markdown",
   "id": "4d02c145-b439-4581-af90-050ca2c88ac8",
   "metadata": {},
   "source": [
    "## copy list"
   ]
  },
  {
   "cell_type": "code",
   "execution_count": 121,
   "id": "424a6fec-7040-4bba-9029-908cdac672d6",
   "metadata": {},
   "outputs": [],
   "source": [
    "mylist = ['one','two','three','four','five','six','seven','eight']"
   ]
  },
  {
   "cell_type": "code",
   "execution_count": 122,
   "id": "4c8e5749-a27d-4a3d-91ec-0d7901bf3fe3",
   "metadata": {},
   "outputs": [],
   "source": [
    "mylist1 = mylist # create a new reference \"mylist\""
   ]
  },
  {
   "cell_type": "code",
   "execution_count": 123,
   "id": "8e119221-8d5d-46fa-bfcd-fe7ceedbba6d",
   "metadata": {},
   "outputs": [
    {
     "data": {
      "text/plain": [
       "(2943351369664, 2943351369664)"
      ]
     },
     "execution_count": 123,
     "metadata": {},
     "output_type": "execute_result"
    }
   ],
   "source": [
    "id(mylist),id(mylist1) # both the addreses of mylist and mylist1 will be store at same location"
   ]
  },
  {
   "cell_type": "code",
   "execution_count": 124,
   "id": "5175580f-d653-4d98-b004-c2ac810931d8",
   "metadata": {},
   "outputs": [],
   "source": [
    "mylist2 = mylist.copy() # create a  copy of the list"
   ]
  },
  {
   "cell_type": "code",
   "execution_count": 126,
   "id": "6f5ad9fd-d364-49fc-a9f3-5e326bcdc05b",
   "metadata": {},
   "outputs": [
    {
     "data": {
      "text/plain": [
       "2943353680768"
      ]
     },
     "execution_count": 126,
     "metadata": {},
     "output_type": "execute_result"
    }
   ],
   "source": [
    "id(mylist2) # the address of this mylist2 will be different"
   ]
  },
  {
   "cell_type": "code",
   "execution_count": 127,
   "id": "e05eae13-8b75-446f-97c9-4f9e51911573",
   "metadata": {},
   "outputs": [],
   "source": [
    "mylist[0] = 1"
   ]
  },
  {
   "cell_type": "code",
   "execution_count": 128,
   "id": "65b369bc-d51b-40e5-8876-219ea91c52bc",
   "metadata": {},
   "outputs": [
    {
     "data": {
      "text/plain": [
       "[1, 'two', 'three', 'four', 'five', 'six', 'seven', 'eight']"
      ]
     },
     "execution_count": 128,
     "metadata": {},
     "output_type": "execute_result"
    }
   ],
   "source": [
    "mylist"
   ]
  },
  {
   "cell_type": "code",
   "execution_count": 130,
   "id": "8490df68-5239-411f-8b85-66c9784ba7d1",
   "metadata": {},
   "outputs": [
    {
     "data": {
      "text/plain": [
       "[1, 'two', 'three', 'four', 'five', 'six', 'seven', 'eight']"
      ]
     },
     "execution_count": 130,
     "metadata": {},
     "output_type": "execute_result"
    }
   ],
   "source": [
    "mylist1 # it also iumpact to the mylist1 bcz as its pointing to the same list"
   ]
  },
  {
   "cell_type": "code",
   "execution_count": 131,
   "id": "3a202eda-6739-41b5-897b-3d2b979727da",
   "metadata": {},
   "outputs": [
    {
     "data": {
      "text/plain": [
       "['one', 'two', 'three', 'four', 'five', 'six', 'seven', 'eight']"
      ]
     },
     "execution_count": 131,
     "metadata": {},
     "output_type": "execute_result"
    }
   ],
   "source": [
    "mylist2 # it won't effect to the mylist2 bcz chnages made on the orignal list"
   ]
  },
  {
   "cell_type": "markdown",
   "id": "ff23cdb0-089c-494b-b180-40e148294168",
   "metadata": {},
   "source": [
    "## join lists"
   ]
  },
  {
   "cell_type": "code",
   "execution_count": 132,
   "id": "630564a6-bf5f-4c3b-b299-f233058b89f1",
   "metadata": {},
   "outputs": [],
   "source": [
    "list1 = ['one','two','three','four']\n",
    "list2 = [ 'five','six','seven','eight']"
   ]
  },
  {
   "cell_type": "code",
   "execution_count": 133,
   "id": "f8fad0a7-ffa7-4b75-971e-7fae5c0a4942",
   "metadata": {},
   "outputs": [],
   "source": [
    "list3 = list1 + list2 # joining the list by + arthemetic oprator"
   ]
  },
  {
   "cell_type": "code",
   "execution_count": 134,
   "id": "106ded9b-b38a-41de-9d78-11b15c30be7c",
   "metadata": {},
   "outputs": [
    {
     "data": {
      "text/plain": [
       "['one', 'two', 'three', 'four', 'five', 'six', 'seven', 'eight']"
      ]
     },
     "execution_count": 134,
     "metadata": {},
     "output_type": "execute_result"
    }
   ],
   "source": [
    "list3"
   ]
  },
  {
   "cell_type": "code",
   "execution_count": 135,
   "id": "3b1a5276-9258-45f5-8b6c-f8bcee011b15",
   "metadata": {},
   "outputs": [],
   "source": [
    "list1.extend(list2) #Appened the list2 with the list1 means merging the both lists 1&2"
   ]
  },
  {
   "cell_type": "code",
   "execution_count": 136,
   "id": "042d04d8-50a4-4180-a09d-9bdfeddb4aeb",
   "metadata": {},
   "outputs": [
    {
     "data": {
      "text/plain": [
       "['one', 'two', 'three', 'four', 'five', 'six', 'seven', 'eight']"
      ]
     },
     "execution_count": 136,
     "metadata": {},
     "output_type": "execute_result"
    }
   ],
   "source": [
    "list1"
   ]
  },
  {
   "cell_type": "markdown",
   "id": "848b595e-edb2-48d3-8034-4c3a42ba60d1",
   "metadata": {},
   "source": [
    "## list membership"
   ]
  },
  {
   "cell_type": "code",
   "execution_count": 137,
   "id": "3f29ecea-2caf-4691-8922-f6e1635dd2c5",
   "metadata": {},
   "outputs": [
    {
     "data": {
      "text/plain": [
       "['one', 'two', 'three', 'four', 'five', 'six', 'seven', 'eight']"
      ]
     },
     "execution_count": 137,
     "metadata": {},
     "output_type": "execute_result"
    }
   ],
   "source": [
    "list1"
   ]
  },
  {
   "cell_type": "code",
   "execution_count": 139,
   "id": "a5c9bf40-684b-4ebb-a8d7-7a46538ec123",
   "metadata": {},
   "outputs": [
    {
     "data": {
      "text/plain": [
       "True"
      ]
     },
     "execution_count": 139,
     "metadata": {},
     "output_type": "execute_result"
    }
   ],
   "source": [
    " 'one' in list1 # checking the element is present or not in the list, if it is there then it will print YES or if it is not then NOT"
   ]
  },
  {
   "cell_type": "code",
   "execution_count": 140,
   "id": "3d39b562-2302-4779-93b7-34b0813f61af",
   "metadata": {},
   "outputs": [
    {
     "data": {
      "text/plain": [
       "False"
      ]
     },
     "execution_count": 140,
     "metadata": {},
     "output_type": "execute_result"
    }
   ],
   "source": [
    "'ten' in list1"
   ]
  },
  {
   "cell_type": "code",
   "execution_count": 148,
   "id": "06284e35-3ad1-4d58-8a9d-257c01615963",
   "metadata": {},
   "outputs": [
    {
     "data": {
      "text/plain": [
       "['one', 'two', 'three', 'four', 'five', 'six', 'seven', 'eight']"
      ]
     },
     "execution_count": 148,
     "metadata": {},
     "output_type": "execute_result"
    }
   ],
   "source": [
    "list1"
   ]
  },
  {
   "cell_type": "code",
   "execution_count": 150,
   "id": "4e519284-acd5-45d0-877f-ae188397048d",
   "metadata": {},
   "outputs": [
    {
     "data": {
      "text/plain": [
       "True"
      ]
     },
     "execution_count": 150,
     "metadata": {},
     "output_type": "execute_result"
    }
   ],
   "source": [
    "'three' in list1"
   ]
  },
  {
   "cell_type": "code",
   "execution_count": 151,
   "id": "183ddbfb-1291-4aa9-96fe-427fce2551fe",
   "metadata": {},
   "outputs": [
    {
     "ename": "TypeError",
     "evalue": "'float' object is not callable",
     "output_type": "error",
     "traceback": [
      "\u001b[1;31m---------------------------------------------------------------------------\u001b[0m",
      "\u001b[1;31mTypeError\u001b[0m                                 Traceback (most recent call last)",
      "Cell \u001b[1;32mIn[151], line 2\u001b[0m\n\u001b[0;32m      1\u001b[0m \u001b[38;5;28;01mif\u001b[39;00m \u001b[38;5;124m'\u001b[39m\u001b[38;5;124mthree\u001b[39m\u001b[38;5;124m'\u001b[39m \u001b[38;5;129;01min\u001b[39;00m list1:\n\u001b[1;32m----> 2\u001b[0m     \u001b[38;5;28mprint\u001b[39m(\u001b[38;5;124m'\u001b[39m\u001b[38;5;124mthree is present in the list1\u001b[39m\u001b[38;5;124m'\u001b[39m)\n\u001b[0;32m      3\u001b[0m \u001b[38;5;28;01melse\u001b[39;00m:\n\u001b[0;32m      4\u001b[0m     \u001b[38;5;28mprint\u001b[39m(\u001b[38;5;124m'\u001b[39m\u001b[38;5;124mthree is not present in the list1\u001b[39m\u001b[38;5;124m'\u001b[39m)\n",
      "\u001b[1;31mTypeError\u001b[0m: 'float' object is not callable"
     ]
    }
   ],
   "source": [
    "if 'three' in list1:\n",
    "    print('three is present in the list1')\n",
    "else:\n",
    "    print('three is not present in the list1')\n"
   ]
  },
  {
   "cell_type": "code",
   "execution_count": 146,
   "id": "87c6caaf-89ad-427e-8056-75cff76cb741",
   "metadata": {},
   "outputs": [
    {
     "ename": "TypeError",
     "evalue": "'float' object is not callable",
     "output_type": "error",
     "traceback": [
      "\u001b[1;31m---------------------------------------------------------------------------\u001b[0m",
      "\u001b[1;31mTypeError\u001b[0m                                 Traceback (most recent call last)",
      "Cell \u001b[1;32mIn[146], line 4\u001b[0m\n\u001b[0;32m      2\u001b[0m     \u001b[38;5;28mprint\u001b[39m(\u001b[38;5;124m'\u001b[39m\u001b[38;5;124mThree is present in the list\u001b[39m\u001b[38;5;124m'\u001b[39m)\n\u001b[0;32m      3\u001b[0m \u001b[38;5;28;01melse\u001b[39;00m:\n\u001b[1;32m----> 4\u001b[0m     \u001b[38;5;28mprint\u001b[39m(\u001b[38;5;124m'\u001b[39m\u001b[38;5;124mThree is not present in the list\u001b[39m\u001b[38;5;124m'\u001b[39m)\n",
      "\u001b[1;31mTypeError\u001b[0m: 'float' object is not callable"
     ]
    }
   ],
   "source": [
    "if 'eleven' in list1:\n",
    "    print('Three is present in the list')\n",
    "else:\n",
    "    print('Three is not present in the list')"
   ]
  },
  {
   "cell_type": "markdown",
   "id": "a13b7aa3-d261-47ad-aadd-cb29e629c198",
   "metadata": {},
   "source": [
    "## Reverse and sort list"
   ]
  },
  {
   "cell_type": "code",
   "execution_count": 152,
   "id": "fd393ddb-62d7-4979-8f4d-e1eb4bf71ae4",
   "metadata": {},
   "outputs": [
    {
     "data": {
      "text/plain": [
       "['one', 'two', 'three', 'four', 'five', 'six', 'seven', 'eight']"
      ]
     },
     "execution_count": 152,
     "metadata": {},
     "output_type": "execute_result"
    }
   ],
   "source": [
    "list1"
   ]
  },
  {
   "cell_type": "code",
   "execution_count": 153,
   "id": "0425197d-41ca-4cf5-b9a2-1e182b4eac34",
   "metadata": {},
   "outputs": [],
   "source": [
    "list1.reverse() # to reverse the list we use reverse funtion "
   ]
  },
  {
   "cell_type": "code",
   "execution_count": 154,
   "id": "6025f13d-5146-4a13-a200-6ccacf7e6f03",
   "metadata": {},
   "outputs": [
    {
     "data": {
      "text/plain": [
       "['eight', 'seven', 'six', 'five', 'four', 'three', 'two', 'one']"
      ]
     },
     "execution_count": 154,
     "metadata": {},
     "output_type": "execute_result"
    }
   ],
   "source": [
    "list1"
   ]
  },
  {
   "cell_type": "code",
   "execution_count": 155,
   "id": "fbec04b4-9d6e-4fd1-8c48-1eb9b058b596",
   "metadata": {},
   "outputs": [
    {
     "data": {
      "text/plain": [
       "['one', 'two', 'three', 'four', 'five', 'six', 'seven', 'eight']"
      ]
     },
     "execution_count": 155,
     "metadata": {},
     "output_type": "execute_result"
    }
   ],
   "source": [
    "list1 = list1[::-1] # Again reversing the list which already reversed\n",
    "list1"
   ]
  },
  {
   "cell_type": "code",
   "execution_count": 158,
   "id": "c45297f8-58ea-4420-8e45-9ebccc6779a2",
   "metadata": {},
   "outputs": [
    {
     "data": {
      "text/plain": [
       "[2, 5, 9, 12, 34, 88, 99]"
      ]
     },
     "execution_count": 158,
     "metadata": {},
     "output_type": "execute_result"
    }
   ],
   "source": [
    "mylist3 = [9,5,2,99,12,88,34]\n",
    "mylist3.sort() # sort funtion arrange the item in a assending ordered manner if it is unordered\n",
    "mylist3"
   ]
  },
  {
   "cell_type": "code",
   "execution_count": 159,
   "id": "bd05316b-9818-427e-aec8-ca1718079b20",
   "metadata": {},
   "outputs": [
    {
     "data": {
      "text/plain": [
       "[99, 88, 34, 12, 9, 5, 2]"
      ]
     },
     "execution_count": 159,
     "metadata": {},
     "output_type": "execute_result"
    }
   ],
   "source": [
    "mylist3 = [9,5,2,99,12,88,34]\n",
    "mylist3.sort(reverse=True) # using sort() to arrange items in decending order\n",
    "mylist3"
   ]
  },
  {
   "cell_type": "code",
   "execution_count": 160,
   "id": "54668566-7cd1-4b91-bcc6-93b285625a38",
   "metadata": {},
   "outputs": [
    {
     "data": {
      "text/plain": [
       "[11, 21, 33, 65, 88, 98]"
      ]
     },
     "execution_count": 160,
     "metadata": {},
     "output_type": "execute_result"
    }
   ],
   "source": [
    "mylist4 = [88,65,33,21,11,98]\n",
    "sorted(mylist4)   #  sorted return new sorted list without changing to the original one"
   ]
  },
  {
   "cell_type": "code",
   "execution_count": 161,
   "id": "beaa5231-ad10-40d3-a15a-1a2316065748",
   "metadata": {},
   "outputs": [
    {
     "data": {
      "text/plain": [
       "[88, 65, 33, 21, 11, 98]"
      ]
     },
     "execution_count": 161,
     "metadata": {},
     "output_type": "execute_result"
    }
   ],
   "source": [
    "mylist4"
   ]
  },
  {
   "cell_type": "markdown",
   "id": "095f7641-4ce4-436b-9f4b-8cbb25a7fc6b",
   "metadata": {},
   "source": [
    "## loop through a list"
   ]
  },
  {
   "cell_type": "code",
   "execution_count": 162,
   "id": "12d1a786-19ca-4770-b8d3-6233b8bacd85",
   "metadata": {},
   "outputs": [
    {
     "data": {
      "text/plain": [
       "['one', 'two', 'three', 'four', 'five', 'six', 'seven', 'eight']"
      ]
     },
     "execution_count": 162,
     "metadata": {},
     "output_type": "execute_result"
    }
   ],
   "source": [
    "list1"
   ]
  },
  {
   "cell_type": "code",
   "execution_count": 164,
   "id": "866fb10e-4aa7-4a40-9830-b7d577f9549e",
   "metadata": {},
   "outputs": [
    {
     "ename": "TypeError",
     "evalue": "'float' object is not callable",
     "output_type": "error",
     "traceback": [
      "\u001b[1;31m---------------------------------------------------------------------------\u001b[0m",
      "\u001b[1;31mTypeError\u001b[0m                                 Traceback (most recent call last)",
      "Cell \u001b[1;32mIn[164], line 2\u001b[0m\n\u001b[0;32m      1\u001b[0m \u001b[38;5;28;01mfor\u001b[39;00m i \u001b[38;5;129;01min\u001b[39;00m list1:\n\u001b[1;32m----> 2\u001b[0m     \u001b[38;5;28mprint\u001b[39m(i)\n",
      "\u001b[1;31mTypeError\u001b[0m: 'float' object is not callable"
     ]
    }
   ],
   "source": [
    "for i in list1:\n",
    "    print(i)"
   ]
  },
  {
   "cell_type": "code",
   "execution_count": 165,
   "id": "13e8b3f0-fc37-42dd-b47e-7bff3cda5242",
   "metadata": {},
   "outputs": [
    {
     "ename": "TypeError",
     "evalue": "'float' object is not callable",
     "output_type": "error",
     "traceback": [
      "\u001b[1;31m---------------------------------------------------------------------------\u001b[0m",
      "\u001b[1;31mTypeError\u001b[0m                                 Traceback (most recent call last)",
      "Cell \u001b[1;32mIn[165], line 2\u001b[0m\n\u001b[0;32m      1\u001b[0m \u001b[38;5;28;01mfor\u001b[39;00m i \u001b[38;5;129;01min\u001b[39;00m \u001b[38;5;28menumerate\u001b[39m(list1):\n\u001b[1;32m----> 2\u001b[0m     \u001b[38;5;28mprint\u001b[39m(i)\n",
      "\u001b[1;31mTypeError\u001b[0m: 'float' object is not callable"
     ]
    }
   ],
   "source": [
    "for i in enumerate(list1):\n",
    "    print(i)"
   ]
  },
  {
   "cell_type": "code",
   "execution_count": 167,
   "id": "042a0003-d512-431e-b55f-562543306fc0",
   "metadata": {},
   "outputs": [],
   "source": [
    "list10 = ['one','two','three','four','one','one','two','three']"
   ]
  },
  {
   "cell_type": "code",
   "execution_count": 168,
   "id": "03bf8e6c-7784-47aa-b337-faa79aa24cbb",
   "metadata": {},
   "outputs": [
    {
     "data": {
      "text/plain": [
       "3"
      ]
     },
     "execution_count": 168,
     "metadata": {},
     "output_type": "execute_result"
    }
   ],
   "source": [
    "list10.count('one') # count() count the number of specific element in the list like 'one'"
   ]
  },
  {
   "cell_type": "markdown",
   "id": "ff77a66a-661a-4c27-844f-4ef2d85cc6aa",
   "metadata": {},
   "source": [
    "## All/Any"
   ]
  },
  {
   "cell_type": "code",
   "execution_count": 170,
   "id": "48eb98a5-27ba-463c-a2cc-236573790ff6",
   "metadata": {},
   "outputs": [],
   "source": [
    "#The all() method returns:\n",
    "# - True If the element is in the list\n",
    "# - False If the element is not in the list"
   ]
  },
  {
   "cell_type": "code",
   "execution_count": 171,
   "id": "062e9a01-f2a4-4cd6-803f-c4390a38d26a",
   "metadata": {},
   "outputs": [],
   "source": [
    "L1 = [1,2,3,4,0]"
   ]
  },
  {
   "cell_type": "code",
   "execution_count": 173,
   "id": "f1b6bc1f-f1c1-45dc-bab6-8d2a61853a6a",
   "metadata": {},
   "outputs": [
    {
     "data": {
      "text/plain": [
       "False"
      ]
     },
     "execution_count": 173,
     "metadata": {},
     "output_type": "execute_result"
    }
   ],
   "source": [
    "all(L1) # will return false as one value is false (0)"
   ]
  },
  {
   "cell_type": "code",
   "execution_count": 174,
   "id": "611c5c03-ef33-42d9-9bd0-a18a55ea2548",
   "metadata": {},
   "outputs": [
    {
     "data": {
      "text/plain": [
       "True"
      ]
     },
     "execution_count": 174,
     "metadata": {},
     "output_type": "execute_result"
    }
   ],
   "source": [
    "any(L1)"
   ]
  },
  {
   "cell_type": "code",
   "execution_count": 175,
   "id": "192f1071-25de-4e6a-b01e-7660679f086f",
   "metadata": {},
   "outputs": [],
   "source": [
    "L2 = [1,2,3,4,True,False]"
   ]
  },
  {
   "cell_type": "code",
   "execution_count": 177,
   "id": "603394aa-51ca-4b48-b5f4-074b41934b07",
   "metadata": {},
   "outputs": [
    {
     "data": {
      "text/plain": [
       "False"
      ]
     },
     "execution_count": 177,
     "metadata": {},
     "output_type": "execute_result"
    }
   ],
   "source": [
    "all(L2) # it will return false as one value is false"
   ]
  },
  {
   "cell_type": "code",
   "execution_count": 179,
   "id": "8faa452d-dd89-45f9-8863-ec3478b56f38",
   "metadata": {},
   "outputs": [
    {
     "data": {
      "text/plain": [
       "True"
      ]
     },
     "execution_count": 179,
     "metadata": {},
     "output_type": "execute_result"
    }
   ],
   "source": [
    "any(L2) # return true as we have items in the list with the true value"
   ]
  },
  {
   "cell_type": "code",
   "execution_count": 180,
   "id": "3a8be1d5-7249-47eb-a121-ca9f80968fb2",
   "metadata": {},
   "outputs": [],
   "source": [
    "L3 = [1,2,3,True]"
   ]
  },
  {
   "cell_type": "code",
   "execution_count": 181,
   "id": "cb18242d-fc45-4192-b966-1cc3c444e3ea",
   "metadata": {},
   "outputs": [
    {
     "data": {
      "text/plain": [
       "True"
      ]
     },
     "execution_count": 181,
     "metadata": {},
     "output_type": "execute_result"
    }
   ],
   "source": [
    "all(L3)"
   ]
  },
  {
   "cell_type": "code",
   "execution_count": 182,
   "id": "d2307279-cfaa-4373-86ce-0768b5408540",
   "metadata": {},
   "outputs": [
    {
     "data": {
      "text/plain": [
       "True"
      ]
     },
     "execution_count": 182,
     "metadata": {},
     "output_type": "execute_result"
    }
   ],
   "source": [
    "any(L3)"
   ]
  },
  {
   "cell_type": "code",
   "execution_count": null,
   "id": "d72eec5b-7a4d-4ea7-840f-be155140fe4a",
   "metadata": {},
   "outputs": [],
   "source": []
  }
 ],
 "metadata": {
  "kernelspec": {
   "display_name": "Python 3 (ipykernel)",
   "language": "python",
   "name": "python3"
  },
  "language_info": {
   "codemirror_mode": {
    "name": "ipython",
    "version": 3
   },
   "file_extension": ".py",
   "mimetype": "text/x-python",
   "name": "python",
   "nbconvert_exporter": "python",
   "pygments_lexer": "ipython3",
   "version": "3.12.7"
  }
 },
 "nbformat": 4,
 "nbformat_minor": 5
}
