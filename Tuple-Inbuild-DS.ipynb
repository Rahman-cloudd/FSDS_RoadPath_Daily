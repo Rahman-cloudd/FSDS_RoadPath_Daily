{
 "cells": [
  {
   "cell_type": "code",
   "execution_count": 3,
   "id": "89329d37-1fbc-4af9-bb67-2d5d87d5d5f0",
   "metadata": {},
   "outputs": [],
   "source": [
    "tup1 = ()  # Empty tuple"
   ]
  },
  {
   "cell_type": "code",
   "execution_count": 4,
   "id": "55822f0d-44f7-4b3d-b1ae-cbc3d18792f7",
   "metadata": {},
   "outputs": [],
   "source": [
    "tup2 = (30,40,50) # Tuple of Integer numbers"
   ]
  },
  {
   "cell_type": "code",
   "execution_count": 5,
   "id": "f094b352-4153-487d-a687-516636f51f44",
   "metadata": {},
   "outputs": [],
   "source": [
    "tup3 = (33.33,6.66,90.99) # tuple of Float numbers"
   ]
  },
  {
   "cell_type": "code",
   "execution_count": 6,
   "id": "f8abc7c8-3776-44ba-b5c2-8ee6aac4a5c1",
   "metadata": {},
   "outputs": [],
   "source": [
    "tup4 = ('one','two','three') # tuple of string"
   ]
  },
  {
   "cell_type": "code",
   "execution_count": 8,
   "id": "9692ef7e-9ad3-4980-8deb-c318d46398ee",
   "metadata": {},
   "outputs": [],
   "source": [
    "tup6 = (100,12.712,'Asif') # tuple of mix data type"
   ]
  },
  {
   "cell_type": "code",
   "execution_count": 9,
   "id": "dd71558e-4373-485c-bec1-61b200cb878f",
   "metadata": {},
   "outputs": [],
   "source": [
    "tup5 = ('Asif',25,(50,100),(150,90)) # nested Tuple"
   ]
  },
  {
   "cell_type": "code",
   "execution_count": 10,
   "id": "55ae66b8-7a50-44f6-982e-7c9e598c5845",
   "metadata": {},
   "outputs": [],
   "source": [
    "tup7 = ('Asif',25,[50,100],[150,90],{'sibu','shakti'},(99,22,33))"
   ]
  },
  {
   "cell_type": "code",
   "execution_count": 11,
   "id": "2d767087-34c4-4675-a31f-93875b561112",
   "metadata": {},
   "outputs": [
    {
     "data": {
      "text/plain": [
       "6"
      ]
     },
     "execution_count": 11,
     "metadata": {},
     "output_type": "execute_result"
    }
   ],
   "source": [
    "len(tup7) # length of tup[7"
   ]
  },
  {
   "cell_type": "markdown",
   "id": "6d3f72d8-596e-414c-93e2-0ee2d626b196",
   "metadata": {},
   "source": [
    "## Tuple indexing"
   ]
  },
  {
   "cell_type": "code",
   "execution_count": 14,
   "id": "a3682d9a-bff6-4d34-a48c-f6baad1bd143",
   "metadata": {},
   "outputs": [
    {
     "data": {
      "text/plain": [
       "30"
      ]
     },
     "execution_count": 14,
     "metadata": {},
     "output_type": "execute_result"
    }
   ],
   "source": [
    "tup2[0] # retrive first element of the tuple 2"
   ]
  },
  {
   "cell_type": "code",
   "execution_count": 15,
   "id": "afef0250-0e94-4ac1-85b7-5645a36f240d",
   "metadata": {},
   "outputs": [
    {
     "data": {
      "text/plain": [
       "'one'"
      ]
     },
     "execution_count": 15,
     "metadata": {},
     "output_type": "execute_result"
    }
   ],
   "source": [
    "tup4[0] # retreive the first element from the tuple 4"
   ]
  },
  {
   "cell_type": "code",
   "execution_count": 17,
   "id": "feba30d1-c5fb-4f03-8d48-be714042c4d0",
   "metadata": {},
   "outputs": [
    {
     "data": {
      "text/plain": [
       "'o'"
      ]
     },
     "execution_count": 17,
     "metadata": {},
     "output_type": "execute_result"
    }
   ],
   "source": [
    "tup4[0][0] # Nested indexing - acess the first character of the tuple element"
   ]
  },
  {
   "cell_type": "code",
   "execution_count": 18,
   "id": "ee6919fc-22e0-4459-a2d9-50cb5c54ebd2",
   "metadata": {},
   "outputs": [
    {
     "data": {
      "text/plain": [
       "(150, 90)"
      ]
     },
     "execution_count": 18,
     "metadata": {},
     "output_type": "execute_result"
    }
   ],
   "source": [
    "tup5[-1] # calling the last oitem from the tuple"
   ]
  },
  {
   "cell_type": "markdown",
   "id": "0a42c35a-81b9-4398-827d-d2c3316c7c6d",
   "metadata": {},
   "source": [
    "# Tuple slicing"
   ]
  },
  {
   "cell_type": "code",
   "execution_count": 19,
   "id": "43460688-47a6-459b-ad5b-fb4d6313d686",
   "metadata": {},
   "outputs": [],
   "source": [
    "mytuple = ('one','two','three','four','five','six','seven','eight')"
   ]
  },
  {
   "cell_type": "code",
   "execution_count": 20,
   "id": "af533096-1570-4acc-8fbc-1d118bb17044",
   "metadata": {},
   "outputs": [
    {
     "data": {
      "text/plain": [
       "('one', 'two', 'three')"
      ]
     },
     "execution_count": 20,
     "metadata": {},
     "output_type": "execute_result"
    }
   ],
   "source": [
    "mytuple[0:3] # Return all element from o to 3rd index"
   ]
  },
  {
   "cell_type": "code",
   "execution_count": 21,
   "id": "316a5458-47a1-4acc-a13a-87165b4ca5fa",
   "metadata": {},
   "outputs": [
    {
     "data": {
      "text/plain": [
       "('one', 'two', 'three')"
      ]
     },
     "execution_count": 21,
     "metadata": {},
     "output_type": "execute_result"
    }
   ],
   "source": [
    "mytuple[:3] # return the first three items"
   ]
  },
  {
   "cell_type": "code",
   "execution_count": 22,
   "id": "f33389c2-818f-46dc-8402-ea0e0b079bda",
   "metadata": {},
   "outputs": [
    {
     "data": {
      "text/plain": [
       "('one', 'two')"
      ]
     },
     "execution_count": 22,
     "metadata": {},
     "output_type": "execute_result"
    }
   ],
   "source": [
    "mytuple[:2]"
   ]
  },
  {
   "cell_type": "code",
   "execution_count": 24,
   "id": "5d46ed3c-829e-43a9-9477-a1ecf71eec8d",
   "metadata": {},
   "outputs": [
    {
     "data": {
      "text/plain": [
       "('six', 'seven', 'eight')"
      ]
     },
     "execution_count": 24,
     "metadata": {},
     "output_type": "execute_result"
    }
   ],
   "source": [
    "mytuple[-3:] # return last three item"
   ]
  },
  {
   "cell_type": "code",
   "execution_count": 25,
   "id": "a15ff0b7-0d2e-4f8e-b6e1-db737f4e9533",
   "metadata": {},
   "outputs": [
    {
     "data": {
      "text/plain": [
       "('seven', 'eight')"
      ]
     },
     "execution_count": 25,
     "metadata": {},
     "output_type": "execute_result"
    }
   ],
   "source": [
    "mytuple[-2:]"
   ]
  },
  {
   "cell_type": "code",
   "execution_count": 26,
   "id": "0209e2a0-7a48-44fe-93e8-79ecb28db4ee",
   "metadata": {},
   "outputs": [
    {
     "data": {
      "text/plain": [
       "'eight'"
      ]
     },
     "execution_count": 26,
     "metadata": {},
     "output_type": "execute_result"
    }
   ],
   "source": [
    "mytuple[-1]"
   ]
  },
  {
   "cell_type": "code",
   "execution_count": 27,
   "id": "c3241407-7555-4a6e-9378-722aeea09f62",
   "metadata": {},
   "outputs": [
    {
     "data": {
      "text/plain": [
       "'six'"
      ]
     },
     "execution_count": 27,
     "metadata": {},
     "output_type": "execute_result"
    }
   ],
   "source": [
    "mytuple[-3]"
   ]
  },
  {
   "cell_type": "code",
   "execution_count": 28,
   "id": "6b3b453c-3474-430b-9c60-ff239ba6fece",
   "metadata": {},
   "outputs": [
    {
     "data": {
      "text/plain": [
       "('one', 'two', 'three', 'four', 'five', 'six', 'seven', 'eight')"
      ]
     },
     "execution_count": 28,
     "metadata": {},
     "output_type": "execute_result"
    }
   ],
   "source": [
    "mytuple[:] # return the whole tuple"
   ]
  },
  {
   "cell_type": "markdown",
   "id": "a1f28fc5-dfbe-46b6-a0cf-52774bcc9781",
   "metadata": {},
   "source": [
    "# Remove and change items"
   ]
  },
  {
   "cell_type": "code",
   "execution_count": 29,
   "id": "68f311b5-3b4c-4888-9115-8d8aee84ffbb",
   "metadata": {},
   "outputs": [
    {
     "data": {
      "text/plain": [
       "('one', 'two', 'three', 'four', 'five', 'six', 'seven', 'eight')"
      ]
     },
     "execution_count": 29,
     "metadata": {},
     "output_type": "execute_result"
    }
   ],
   "source": [
    "mytuple"
   ]
  },
  {
   "cell_type": "code",
   "execution_count": 30,
   "id": "0d21d481-33a7-4b8b-9559-755da3756fe0",
   "metadata": {},
   "outputs": [
    {
     "ename": "TypeError",
     "evalue": "'tuple' object doesn't support item deletion",
     "output_type": "error",
     "traceback": [
      "\u001b[1;31m---------------------------------------------------------------------------\u001b[0m",
      "\u001b[1;31mTypeError\u001b[0m                                 Traceback (most recent call last)",
      "Cell \u001b[1;32mIn[30], line 1\u001b[0m\n\u001b[1;32m----> 1\u001b[0m \u001b[38;5;28;01mdel\u001b[39;00m mytuple[\u001b[38;5;241m0\u001b[39m]\n",
      "\u001b[1;31mTypeError\u001b[0m: 'tuple' object doesn't support item deletion"
     ]
    }
   ],
   "source": [
    "del mytuple[0] # tuple are immutable which means we cannot del or chnage the items "
   ]
  },
  {
   "cell_type": "code",
   "execution_count": 31,
   "id": "5813ed22-0891-4866-8a97-17e08c5b7b66",
   "metadata": {},
   "outputs": [
    {
     "ename": "TypeError",
     "evalue": "'tuple' object does not support item assignment",
     "output_type": "error",
     "traceback": [
      "\u001b[1;31m---------------------------------------------------------------------------\u001b[0m",
      "\u001b[1;31mTypeError\u001b[0m                                 Traceback (most recent call last)",
      "Cell \u001b[1;32mIn[31], line 1\u001b[0m\n\u001b[1;32m----> 1\u001b[0m mytuple[\u001b[38;5;241m0\u001b[39m] \u001b[38;5;241m=\u001b[39m \u001b[38;5;241m1\u001b[39m\n",
      "\u001b[1;31mTypeError\u001b[0m: 'tuple' object does not support item assignment"
     ]
    }
   ],
   "source": [
    "mytuple[0] = 1"
   ]
  },
  {
   "cell_type": "code",
   "execution_count": 32,
   "id": "8601ee41-6883-4a9d-91ce-f6fc73b2a6e9",
   "metadata": {},
   "outputs": [],
   "source": [
    "del mytuple # deleting the entire tuple object is possible "
   ]
  },
  {
   "cell_type": "code",
   "execution_count": 33,
   "id": "9277c563-a4f3-4c65-b7f3-39c285ba1ce7",
   "metadata": {},
   "outputs": [
    {
     "ename": "NameError",
     "evalue": "name 'mytuple' is not defined",
     "output_type": "error",
     "traceback": [
      "\u001b[1;31m---------------------------------------------------------------------------\u001b[0m",
      "\u001b[1;31mNameError\u001b[0m                                 Traceback (most recent call last)",
      "Cell \u001b[1;32mIn[33], line 1\u001b[0m\n\u001b[1;32m----> 1\u001b[0m mytuple\n",
      "\u001b[1;31mNameError\u001b[0m: name 'mytuple' is not defined"
     ]
    }
   ],
   "source": [
    "mytuple"
   ]
  },
  {
   "cell_type": "code",
   "execution_count": 34,
   "id": "1b71a6c8-627b-4819-83b2-81c7358b0628",
   "metadata": {},
   "outputs": [],
   "source": [
    "mytuple = ('one','two','three','four','five','six','seven','eight')"
   ]
  },
  {
   "cell_type": "code",
   "execution_count": 35,
   "id": "b1e73333-8d99-49f1-8324-0eda4821053b",
   "metadata": {},
   "outputs": [
    {
     "data": {
      "text/plain": [
       "('one', 'two', 'three', 'four', 'five', 'six', 'seven', 'eight')"
      ]
     },
     "execution_count": 35,
     "metadata": {},
     "output_type": "execute_result"
    }
   ],
   "source": [
    "mytuple"
   ]
  },
  {
   "cell_type": "markdown",
   "id": "5401de22-6ece-43b9-a1a0-baff21b1f50a",
   "metadata": {},
   "source": [
    "# loop through a tuple"
   ]
  },
  {
   "cell_type": "code",
   "execution_count": 36,
   "id": "6ecf690c-9505-4352-843a-52ff9392f2fb",
   "metadata": {},
   "outputs": [
    {
     "data": {
      "text/plain": [
       "('one', 'two', 'three', 'four', 'five', 'six', 'seven', 'eight')"
      ]
     },
     "execution_count": 36,
     "metadata": {},
     "output_type": "execute_result"
    }
   ],
   "source": [
    "mytuple"
   ]
  },
  {
   "cell_type": "code",
   "execution_count": 37,
   "id": "f3d840b3-a399-4b40-848a-eb1185226a80",
   "metadata": {},
   "outputs": [
    {
     "name": "stdout",
     "output_type": "stream",
     "text": [
      "one\n",
      "two\n",
      "three\n",
      "four\n",
      "five\n",
      "six\n",
      "seven\n",
      "eight\n"
     ]
    }
   ],
   "source": [
    "for i in mytuple:\n",
    "    print(i)"
   ]
  },
  {
   "cell_type": "code",
   "execution_count": 38,
   "id": "c0de6527-12f3-4b2b-87b9-75bb736beca7",
   "metadata": {},
   "outputs": [
    {
     "name": "stdout",
     "output_type": "stream",
     "text": [
      "(0, 'one')\n",
      "(1, 'two')\n",
      "(2, 'three')\n",
      "(3, 'four')\n",
      "(4, 'five')\n",
      "(5, 'six')\n",
      "(6, 'seven')\n",
      "(7, 'eight')\n"
     ]
    }
   ],
   "source": [
    "for i in enumerate(mytuple):\n",
    "    print(i)"
   ]
  },
  {
   "cell_type": "markdown",
   "id": "4820802a-e15e-4d70-a03f-18085758674a",
   "metadata": {},
   "source": [
    "# Tuple membership"
   ]
  },
  {
   "cell_type": "code",
   "execution_count": 39,
   "id": "4c509ead-c493-4481-aa92-61d5e9932315",
   "metadata": {},
   "outputs": [
    {
     "data": {
      "text/plain": [
       "('one', 'two', 'three', 'four', 'five', 'six', 'seven', 'eight')"
      ]
     },
     "execution_count": 39,
     "metadata": {},
     "output_type": "execute_result"
    }
   ],
   "source": [
    "mytuple"
   ]
  },
  {
   "cell_type": "code",
   "execution_count": 40,
   "id": "e35b24a2-2ffa-4828-9bbb-d623a21a06a9",
   "metadata": {},
   "outputs": [
    {
     "data": {
      "text/plain": [
       "True"
      ]
     },
     "execution_count": 40,
     "metadata": {},
     "output_type": "execute_result"
    }
   ],
   "source": [
    "'one' in mytuple # checking if one exist in the list if yes then its print true"
   ]
  },
  {
   "cell_type": "code",
   "execution_count": 41,
   "id": "a0477792-0254-4e6d-b6a5-114d12bfb6a4",
   "metadata": {},
   "outputs": [
    {
     "data": {
      "text/plain": [
       "False"
      ]
     },
     "execution_count": 41,
     "metadata": {},
     "output_type": "execute_result"
    }
   ],
   "source": [
    "'ten' in mytuple # checking the ten if not the it will print False"
   ]
  },
  {
   "cell_type": "code",
   "execution_count": 42,
   "id": "378ebed7-b7dc-401e-b4fe-ed420b806627",
   "metadata": {},
   "outputs": [
    {
     "name": "stdout",
     "output_type": "stream",
     "text": [
      "Three is present in the tuple\n"
     ]
    }
   ],
   "source": [
    "if 'three' in mytuple:\n",
    "    print('Three is present in the tuple')\n",
    "else:\n",
    "    print('Three is not present in the Tuple')"
   ]
  },
  {
   "cell_type": "code",
   "execution_count": 43,
   "id": "d7d48978-e4d3-4d14-8d77-a3d1340276e9",
   "metadata": {},
   "outputs": [
    {
     "name": "stdout",
     "output_type": "stream",
     "text": [
      "eleven is not present in the Tuple\n"
     ]
    }
   ],
   "source": [
    "if 'eleven' in mytuple:\n",
    "    print('eleven is present in the tuple')\n",
    "else:\n",
    "    print('eleven is not present in the Tuple')"
   ]
  },
  {
   "cell_type": "markdown",
   "id": "015760bf-dca3-4f55-9c38-b5c32463e9ea",
   "metadata": {},
   "source": [
    "# Index position"
   ]
  },
  {
   "cell_type": "code",
   "execution_count": 44,
   "id": "4e367c04-1093-4c08-a088-a13f5a2152cb",
   "metadata": {},
   "outputs": [
    {
     "data": {
      "text/plain": [
       "('one', 'two', 'three', 'four', 'five', 'six', 'seven', 'eight')"
      ]
     },
     "execution_count": 44,
     "metadata": {},
     "output_type": "execute_result"
    }
   ],
   "source": [
    "mytuple"
   ]
  },
  {
   "cell_type": "code",
   "execution_count": 45,
   "id": "edf79458-9fb2-4c51-b7f1-e9b27031d4db",
   "metadata": {},
   "outputs": [
    {
     "data": {
      "text/plain": [
       "0"
      ]
     },
     "execution_count": 45,
     "metadata": {},
     "output_type": "execute_result"
    }
   ],
   "source": [
    "mytuple.index('one') # Index of first element equal to one,'index' gives index postion of the element"
   ]
  },
  {
   "cell_type": "code",
   "execution_count": 46,
   "id": "3611a042-2652-4904-a033-36804d989d6f",
   "metadata": {},
   "outputs": [
    {
     "data": {
      "text/plain": [
       "4"
      ]
     },
     "execution_count": 46,
     "metadata": {},
     "output_type": "execute_result"
    }
   ],
   "source": [
    "mytuple.index('five')"
   ]
  },
  {
   "cell_type": "code",
   "execution_count": 48,
   "id": "44f364b5-f065-482c-a64c-e53cf357d329",
   "metadata": {},
   "outputs": [
    {
     "data": {
      "text/plain": [
       "('one', 'two', 'three', 'four', 'one', 'one', 'three', 'four')"
      ]
     },
     "execution_count": 48,
     "metadata": {},
     "output_type": "execute_result"
    }
   ],
   "source": [
    "mytuple1 = ('one','two','three','four','one','one','three','four')\n",
    "mytuple1"
   ]
  },
  {
   "cell_type": "code",
   "execution_count": 49,
   "id": "bd22c298-3283-4979-9fd3-c43ea426757e",
   "metadata": {},
   "outputs": [
    {
     "data": {
      "text/plain": [
       "0"
      ]
     },
     "execution_count": 49,
     "metadata": {},
     "output_type": "execute_result"
    }
   ],
   "source": [
    "mytuple.index('one')"
   ]
  },
  {
   "cell_type": "markdown",
   "id": "cd01413f-5a43-4945-b43b-60a4b24839f1",
   "metadata": {},
   "source": [
    "# Shrting"
   ]
  },
  {
   "cell_type": "code",
   "execution_count": 50,
   "id": "d930d79a-de2d-431e-ba04-c8a3b7dd58f3",
   "metadata": {},
   "outputs": [
    {
     "data": {
      "text/plain": [
       "(43, 67, 99, 12, 90, 67)"
      ]
     },
     "execution_count": 50,
     "metadata": {},
     "output_type": "execute_result"
    }
   ],
   "source": [
    "mytuple2 = (43,67,99,12,90,67)\n",
    "mytuple2"
   ]
  },
  {
   "cell_type": "code",
   "execution_count": 51,
   "id": "0d7286a5-e30c-4fcc-bb3f-7e18582e3d2c",
   "metadata": {},
   "outputs": [
    {
     "data": {
      "text/plain": [
       "[12, 43, 67, 67, 90, 99]"
      ]
     },
     "execution_count": 51,
     "metadata": {},
     "output_type": "execute_result"
    }
   ],
   "source": [
    "sorted(mytuple2) # sorted the tuple elemenet"
   ]
  },
  {
   "cell_type": "code",
   "execution_count": 52,
   "id": "840c4fee-96a1-49bc-ba2a-9fbaaf4c15ca",
   "metadata": {},
   "outputs": [
    {
     "data": {
      "text/plain": [
       "[99, 90, 67, 67, 43, 12]"
      ]
     },
     "execution_count": 52,
     "metadata": {},
     "output_type": "execute_result"
    }
   ],
   "source": [
    "sorted(mytuple2,reverse=True) # sorted in decending order"
   ]
  },
  {
   "cell_type": "code",
   "execution_count": null,
   "id": "549bc8bf-034f-4dd9-9819-d5bb20c789e9",
   "metadata": {},
   "outputs": [],
   "source": []
  }
 ],
 "metadata": {
  "kernelspec": {
   "display_name": "Python 3 (ipykernel)",
   "language": "python",
   "name": "python3"
  },
  "language_info": {
   "codemirror_mode": {
    "name": "ipython",
    "version": 3
   },
   "file_extension": ".py",
   "mimetype": "text/x-python",
   "name": "python",
   "nbconvert_exporter": "python",
   "pygments_lexer": "ipython3",
   "version": "3.12.7"
  }
 },
 "nbformat": 4,
 "nbformat_minor": 5
}
