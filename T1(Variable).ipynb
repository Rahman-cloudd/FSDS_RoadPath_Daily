{
 "cells": [
  {
   "cell_type": "markdown",
   "id": "8b22b072-cefe-43df-8e0b-bc9fb927f510",
   "metadata": {},
   "source": [
    "# Python Variable ( 15th April Task)"
   ]
  },
  {
   "cell_type": "code",
   "execution_count": 2,
   "id": "fa003175-dd89-4338-b694-83730efc104d",
   "metadata": {},
   "outputs": [],
   "source": [
    "# example 1 ; integer variable"
   ]
  },
  {
   "cell_type": "code",
   "execution_count": 4,
   "id": "44370c85-05c0-4865-9eb7-0e1ad975c3f2",
   "metadata": {},
   "outputs": [
    {
     "name": "stdout",
     "output_type": "stream",
     "text": [
      "25\n"
     ]
    }
   ],
   "source": [
    "age = 25 \n",
    "print(age)"
   ]
  },
  {
   "cell_type": "code",
   "execution_count": null,
   "id": "e23ffa59-7d1b-4809-a6d4-195acd30842f",
   "metadata": {},
   "outputs": [],
   "source": [
    "# example 2 : string variable "
   ]
  },
  {
   "cell_type": "code",
   "execution_count": 21,
   "id": "360775ef-e514-445d-8a11-4ef119e64a87",
   "metadata": {},
   "outputs": [
    {
     "name": "stdout",
     "output_type": "stream",
     "text": [
      "Alice\n"
     ]
    }
   ],
   "source": [
    "name = \"Alice\"\n",
    "print(name)"
   ]
  },
  {
   "cell_type": "code",
   "execution_count": 8,
   "id": "3a8cbf27-a609-4fe5-98b2-21e5402738e0",
   "metadata": {},
   "outputs": [],
   "source": [
    "# example 3 : float variable\n"
   ]
  },
  {
   "cell_type": "code",
   "execution_count": 9,
   "id": "c3555a9a-2c6a-48f9-8c68-fdb3e666cbe5",
   "metadata": {},
   "outputs": [
    {
     "name": "stdout",
     "output_type": "stream",
     "text": [
      "19.99\n"
     ]
    }
   ],
   "source": [
    "price = 19.99\n",
    "print(price)"
   ]
  },
  {
   "cell_type": "code",
   "execution_count": 10,
   "id": "d5f234c0-4893-4e7d-93c7-da93db609caa",
   "metadata": {},
   "outputs": [],
   "source": [
    "# example 4: Boolean Vaariable"
   ]
  },
  {
   "cell_type": "code",
   "execution_count": 12,
   "id": "db5ab414-a807-4b18-878e-b691ddffc3e8",
   "metadata": {},
   "outputs": [
    {
     "name": "stdout",
     "output_type": "stream",
     "text": [
      "True\n"
     ]
    }
   ],
   "source": [
    "is_active = True\n",
    "print(is_active)"
   ]
  },
  {
   "cell_type": "markdown",
   "id": "d1953663-ce12-41bf-a95b-21d49d1b72cb",
   "metadata": {},
   "source": [
    "## 1 Storing and printing a valve"
   ]
  },
  {
   "cell_type": "code",
   "execution_count": 15,
   "id": "f5136950-a334-4fd2-ac25-22f8f020a6ea",
   "metadata": {},
   "outputs": [],
   "source": [
    "# storing the value 10 in a variable called X"
   ]
  },
  {
   "cell_type": "code",
   "execution_count": 18,
   "id": "3265b6a7-91bd-4f07-a25e-1c2a03c0cc48",
   "metadata": {},
   "outputs": [
    {
     "name": "stdout",
     "output_type": "stream",
     "text": [
      "10\n"
     ]
    }
   ],
   "source": [
    "X = 10\n",
    "# print the value of X\n",
    "print(X)"
   ]
  },
  {
   "cell_type": "markdown",
   "id": "db0c1077-4c79-4879-8c67-ee0d55077659",
   "metadata": {},
   "source": [
    "## 2 using variable in expression"
   ]
  },
  {
   "cell_type": "code",
   "execution_count": 20,
   "id": "2dc51e3f-d93b-460d-b885-271ed84195f2",
   "metadata": {},
   "outputs": [
    {
     "name": "stdout",
     "output_type": "stream",
     "text": [
      "8\n"
     ]
    }
   ],
   "source": [
    "# assinging values to variable\n",
    "a = 5 \n",
    "b = 3 \n",
    "# adding two variable and storing the result in 'result'\n",
    "result = a + b \n",
    "# print the result\n",
    "print(result)"
   ]
  },
  {
   "cell_type": "markdown",
   "id": "52c845a0-d768-4d41-a6ba-2c15ca0e1499",
   "metadata": {},
   "source": [
    "## 3 changing the value of variable"
   ]
  },
  {
   "cell_type": "code",
   "execution_count": 23,
   "id": "dfb6242e-f461-42c1-823c-1944739f4a91",
   "metadata": {},
   "outputs": [
    {
     "name": "stdout",
     "output_type": "stream",
     "text": [
      "50\n"
     ]
    }
   ],
   "source": [
    "# initial value \n",
    "score = 50 \n",
    "print(score)"
   ]
  },
  {
   "cell_type": "raw",
   "id": "80504ad5-df93-4204-9dde-c86e6510b63a",
   "metadata": {},
   "source": [
    "# changing the value of score"
   ]
  },
  {
   "cell_type": "code",
   "execution_count": 24,
   "id": "0f668f1b-effa-4ea5-8686-3c4bf2dcf0cb",
   "metadata": {},
   "outputs": [
    {
     "name": "stdout",
     "output_type": "stream",
     "text": [
      "100\n"
     ]
    }
   ],
   "source": [
    "score = 100\n",
    "print (score)"
   ]
  },
  {
   "cell_type": "markdown",
   "id": "e481bb15-6ed7-4fd5-af3b-695a56167e33",
   "metadata": {},
   "source": [
    "## 4 concatenating string"
   ]
  },
  {
   "cell_type": "code",
   "execution_count": 26,
   "id": "cf570615-0204-4ace-b2a0-e5f0e9408eec",
   "metadata": {},
   "outputs": [
    {
     "name": "stdout",
     "output_type": "stream",
     "text": [
      "jhon deo\n"
     ]
    }
   ],
   "source": [
    "# assinging the values to variables\n",
    "\n",
    "first_name = \"jhon\"\n",
    "last_name = \"deo\"\n",
    "\n",
    "# concataneting strings and storing in a new variable\n",
    "\n",
    "full_name = first_name + \" \" + last_name\n",
    "print(full_name)"
   ]
  },
  {
   "cell_type": "markdown",
   "id": "9e4130d9-ddb1-485e-baf4-d84181b7dec0",
   "metadata": {},
   "source": [
    "## 5 using variable in a calculation"
   ]
  },
  {
   "cell_type": "code",
   "execution_count": 27,
   "id": "5216ad7f-b14e-4226-94ed-0161561c245f",
   "metadata": {},
   "outputs": [
    {
     "name": "stdout",
     "output_type": "stream",
     "text": [
      "15\n"
     ]
    }
   ],
   "source": [
    "# assinging the values in variables \n",
    "length = 10\n",
    "width = 5\n",
    "\n",
    "area = length + width\n",
    "print(area)"
   ]
  },
  {
   "cell_type": "code",
   "execution_count": 28,
   "id": "ab4be208-6b63-4268-9a5c-31918ff3d8f6",
   "metadata": {},
   "outputs": [
    {
     "name": "stdout",
     "output_type": "stream",
     "text": [
      "200\n"
     ]
    }
   ],
   "source": [
    "### now reassinging values to the variables \n",
    "\n",
    "x = 200 # says\n",
    "print(x)"
   ]
  },
  {
   "cell_type": "code",
   "execution_count": 30,
   "id": "c59e94ae-d9a1-4527-9e6f-a34c42d617ae",
   "metadata": {},
   "outputs": [
    {
     "name": "stdout",
     "output_type": "stream",
     "text": [
      "300\n"
     ]
    }
   ],
   "source": [
    "# change the value now\n",
    "\n",
    "x = 300\n",
    "print(x)"
   ]
  },
  {
   "cell_type": "code",
   "execution_count": null,
   "id": "1fab1539-a31d-438a-b6a9-2b222cd7d158",
   "metadata": {},
   "outputs": [],
   "source": []
  },
  {
   "cell_type": "code",
   "execution_count": null,
   "id": "2fd6bbcb-1d47-4c07-a609-cd054fb8f440",
   "metadata": {},
   "outputs": [],
   "source": []
  }
 ],
 "metadata": {
  "kernelspec": {
   "display_name": "Python 3 (ipykernel)",
   "language": "python",
   "name": "python3"
  },
  "language_info": {
   "codemirror_mode": {
    "name": "ipython",
    "version": 3
   },
   "file_extension": ".py",
   "mimetype": "text/x-python",
   "name": "python",
   "nbconvert_exporter": "python",
   "pygments_lexer": "ipython3",
   "version": "3.12.7"
  }
 },
 "nbformat": 4,
 "nbformat_minor": 5
}
