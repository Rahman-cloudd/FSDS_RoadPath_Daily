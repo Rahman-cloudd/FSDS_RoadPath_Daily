{
 "cells": [
  {
   "cell_type": "markdown",
   "id": "6237b12c-7ae9-4275-9917-2d0acb9e3487",
   "metadata": {},
   "source": [
    "# 18 type casting"
   ]
  },
  {
   "cell_type": "code",
   "execution_count": 1,
   "id": "54942f0e-484a-45ff-986d-97aa48a5ca03",
   "metadata": {},
   "outputs": [
    {
     "data": {
      "text/plain": [
       "23.0"
      ]
     },
     "execution_count": 1,
     "metadata": {},
     "output_type": "execute_result"
    }
   ],
   "source": [
    "float(23)"
   ]
  },
  {
   "cell_type": "code",
   "execution_count": 2,
   "id": "0ed7dbe1-a3a7-4555-b852-611cdb143969",
   "metadata": {},
   "outputs": [
    {
     "ename": "TypeError",
     "evalue": "float expected at most 1 argument, got 2",
     "output_type": "error",
     "traceback": [
      "\u001b[1;31m---------------------------------------------------------------------------\u001b[0m",
      "\u001b[1;31mTypeError\u001b[0m                                 Traceback (most recent call last)",
      "Cell \u001b[1;32mIn[2], line 1\u001b[0m\n\u001b[1;32m----> 1\u001b[0m \u001b[38;5;28mfloat\u001b[39m(\u001b[38;5;241m23\u001b[39m,\u001b[38;5;241m56\u001b[39m)\n",
      "\u001b[1;31mTypeError\u001b[0m: float expected at most 1 argument, got 2"
     ]
    }
   ],
   "source": [
    "float(23,56)"
   ]
  },
  {
   "cell_type": "code",
   "execution_count": 4,
   "id": "74989987-f2a0-4f20-bd28-5355cb8d1683",
   "metadata": {},
   "outputs": [
    {
     "data": {
      "text/plain": [
       "1.0"
      ]
     },
     "execution_count": 4,
     "metadata": {},
     "output_type": "execute_result"
    }
   ],
   "source": [
    "float(True)"
   ]
  },
  {
   "cell_type": "code",
   "execution_count": 7,
   "id": "73db4596-5ffa-4f80-9155-aeccbb18fb28",
   "metadata": {},
   "outputs": [
    {
     "data": {
      "text/plain": [
       "0.0"
      ]
     },
     "execution_count": 7,
     "metadata": {},
     "output_type": "execute_result"
    }
   ],
   "source": [
    "float(False)"
   ]
  },
  {
   "cell_type": "code",
   "execution_count": 8,
   "id": "d9383992-3ca6-49b0-9e55-eea71b54ac38",
   "metadata": {},
   "outputs": [
    {
     "ename": "TypeError",
     "evalue": "float() argument must be a string or a real number, not 'complex'",
     "output_type": "error",
     "traceback": [
      "\u001b[1;31m---------------------------------------------------------------------------\u001b[0m",
      "\u001b[1;31mTypeError\u001b[0m                                 Traceback (most recent call last)",
      "Cell \u001b[1;32mIn[8], line 1\u001b[0m\n\u001b[1;32m----> 1\u001b[0m \u001b[38;5;28mfloat\u001b[39m(\u001b[38;5;241m1\u001b[39m\u001b[38;5;241m+\u001b[39m\u001b[38;5;241m2\u001b[39mj)\n",
      "\u001b[1;31mTypeError\u001b[0m: float() argument must be a string or a real number, not 'complex'"
     ]
    }
   ],
   "source": [
    "float(1+2j)"
   ]
  },
  {
   "cell_type": "code",
   "execution_count": 9,
   "id": "1dc57ad9-bfa3-4fed-9a72-0126648fc6a4",
   "metadata": {},
   "outputs": [
    {
     "data": {
      "text/plain": [
       "10.0"
      ]
     },
     "execution_count": 9,
     "metadata": {},
     "output_type": "execute_result"
    }
   ],
   "source": [
    "float('10')"
   ]
  },
  {
   "cell_type": "code",
   "execution_count": 10,
   "id": "bfe60c3b-5be8-4b21-b0f5-fdb98a6f44fe",
   "metadata": {},
   "outputs": [
    {
     "ename": "ValueError",
     "evalue": "could not convert string to float: 'ten'",
     "output_type": "error",
     "traceback": [
      "\u001b[1;31m---------------------------------------------------------------------------\u001b[0m",
      "\u001b[1;31mValueError\u001b[0m                                Traceback (most recent call last)",
      "Cell \u001b[1;32mIn[10], line 1\u001b[0m\n\u001b[1;32m----> 1\u001b[0m \u001b[38;5;28mfloat\u001b[39m(\u001b[38;5;124m'\u001b[39m\u001b[38;5;124mten\u001b[39m\u001b[38;5;124m'\u001b[39m)\n",
      "\u001b[1;31mValueError\u001b[0m: could not convert string to float: 'ten'"
     ]
    }
   ],
   "source": [
    "float('ten')"
   ]
  },
  {
   "cell_type": "markdown",
   "id": "b58b27b7-bfcb-48ef-9ea5-169bba3d39b0",
   "metadata": {},
   "source": [
    "### from other data types to floats except complex and string text"
   ]
  },
  {
   "cell_type": "code",
   "execution_count": 12,
   "id": "31d1b9b8-50a6-4911-8a87-625b6ed65d1b",
   "metadata": {},
   "outputs": [
    {
     "data": {
      "text/plain": [
       "(10+0j)"
      ]
     },
     "execution_count": 12,
     "metadata": {},
     "output_type": "execute_result"
    }
   ],
   "source": [
    "complex(10)"
   ]
  },
  {
   "cell_type": "code",
   "execution_count": 13,
   "id": "bf99584c-b4c3-4004-b38f-166291921550",
   "metadata": {},
   "outputs": [
    {
     "data": {
      "text/plain": [
       "(10+20j)"
      ]
     },
     "execution_count": 13,
     "metadata": {},
     "output_type": "execute_result"
    }
   ],
   "source": [
    "complex(10,20)"
   ]
  },
  {
   "cell_type": "code",
   "execution_count": 14,
   "id": "e8841041-38c0-48a5-acb4-b862c3892ed1",
   "metadata": {},
   "outputs": [
    {
     "ename": "TypeError",
     "evalue": "complex() takes at most 2 arguments (3 given)",
     "output_type": "error",
     "traceback": [
      "\u001b[1;31m---------------------------------------------------------------------------\u001b[0m",
      "\u001b[1;31mTypeError\u001b[0m                                 Traceback (most recent call last)",
      "Cell \u001b[1;32mIn[14], line 1\u001b[0m\n\u001b[1;32m----> 1\u001b[0m \u001b[38;5;28mcomplex\u001b[39m(\u001b[38;5;241m10\u001b[39m,\u001b[38;5;241m20\u001b[39m,\u001b[38;5;241m30\u001b[39m)\n",
      "\u001b[1;31mTypeError\u001b[0m: complex() takes at most 2 arguments (3 given)"
     ]
    }
   ],
   "source": [
    "complex(10,20,30)"
   ]
  },
  {
   "cell_type": "code",
   "execution_count": 15,
   "id": "eeb4572e-0c48-46a5-bde9-26a5ea7355d4",
   "metadata": {},
   "outputs": [
    {
     "data": {
      "text/plain": [
       "(1+0j)"
      ]
     },
     "execution_count": 15,
     "metadata": {},
     "output_type": "execute_result"
    }
   ],
   "source": [
    "complex(True)"
   ]
  },
  {
   "cell_type": "code",
   "execution_count": 16,
   "id": "54720fbc-5840-4980-b90f-9d3e2d7becb9",
   "metadata": {},
   "outputs": [
    {
     "data": {
      "text/plain": [
       "0j"
      ]
     },
     "execution_count": 16,
     "metadata": {},
     "output_type": "execute_result"
    }
   ],
   "source": [
    "complex(False)"
   ]
  },
  {
   "cell_type": "code",
   "execution_count": 17,
   "id": "905224d4-18d2-4582-bbc1-30b6a3d829a8",
   "metadata": {},
   "outputs": [
    {
     "data": {
      "text/plain": [
       "(10+0j)"
      ]
     },
     "execution_count": 17,
     "metadata": {},
     "output_type": "execute_result"
    }
   ],
   "source": [
    "complex('10')"
   ]
  },
  {
   "cell_type": "code",
   "execution_count": 18,
   "id": "b781890a-8a0c-491a-90d5-1eb8faadf00d",
   "metadata": {},
   "outputs": [
    {
     "ename": "ValueError",
     "evalue": "complex() arg is a malformed string",
     "output_type": "error",
     "traceback": [
      "\u001b[1;31m---------------------------------------------------------------------------\u001b[0m",
      "\u001b[1;31mValueError\u001b[0m                                Traceback (most recent call last)",
      "Cell \u001b[1;32mIn[18], line 1\u001b[0m\n\u001b[1;32m----> 1\u001b[0m \u001b[38;5;28mcomplex\u001b[39m(\u001b[38;5;124m'\u001b[39m\u001b[38;5;124mten\u001b[39m\u001b[38;5;124m'\u001b[39m)\n",
      "\u001b[1;31mValueError\u001b[0m: complex() arg is a malformed string"
     ]
    }
   ],
   "source": [
    "complex('ten')"
   ]
  },
  {
   "cell_type": "code",
   "execution_count": 20,
   "id": "865fbcfa-b625-404d-9439-77c85bf7ef52",
   "metadata": {},
   "outputs": [
    {
     "data": {
      "text/plain": [
       "(3.2+5.6j)"
      ]
     },
     "execution_count": 20,
     "metadata": {},
     "output_type": "execute_result"
    }
   ],
   "source": [
    "complex(3.2,5.6)"
   ]
  },
  {
   "cell_type": "markdown",
   "id": "d1e92c99-bcc5-4aa5-9c88-41f89c186587",
   "metadata": {},
   "source": [
    "### from other data types to complex & text string will not possible"
   ]
  },
  {
   "cell_type": "code",
   "execution_count": 23,
   "id": "ee99ea29-2b41-4d0d-a0d3-248b0894ceb6",
   "metadata": {},
   "outputs": [
    {
     "data": {
      "text/plain": [
       "True"
      ]
     },
     "execution_count": 23,
     "metadata": {},
     "output_type": "execute_result"
    }
   ],
   "source": [
    "bool(10)"
   ]
  },
  {
   "cell_type": "code",
   "execution_count": 24,
   "id": "c34918c8-faaa-4427-abd5-c15cbe148904",
   "metadata": {},
   "outputs": [
    {
     "data": {
      "text/plain": [
       "False"
      ]
     },
     "execution_count": 24,
     "metadata": {},
     "output_type": "execute_result"
    }
   ],
   "source": [
    "bool(0)"
   ]
  },
  {
   "cell_type": "code",
   "execution_count": 26,
   "id": "fded79f8-9756-45d5-9c95-594fb9ba782c",
   "metadata": {},
   "outputs": [
    {
     "data": {
      "text/plain": [
       "True"
      ]
     },
     "execution_count": 26,
     "metadata": {},
     "output_type": "execute_result"
    }
   ],
   "source": [
    "bool(93.2)\n"
   ]
  },
  {
   "cell_type": "code",
   "execution_count": 27,
   "id": "89dfefa0-0b1d-42fa-b3f2-ffe615253a8f",
   "metadata": {},
   "outputs": [
    {
     "data": {
      "text/plain": [
       "False"
      ]
     },
     "execution_count": 27,
     "metadata": {},
     "output_type": "execute_result"
    }
   ],
   "source": [
    "bool(0.0)"
   ]
  },
  {
   "cell_type": "code",
   "execution_count": 28,
   "id": "081e1889-ae9b-4926-adba-1a9548a40ad1",
   "metadata": {},
   "outputs": [
    {
     "data": {
      "text/plain": [
       "True"
      ]
     },
     "execution_count": 28,
     "metadata": {},
     "output_type": "execute_result"
    }
   ],
   "source": [
    "bool(1+2j)"
   ]
  },
  {
   "cell_type": "code",
   "execution_count": 29,
   "id": "4a3399da-8572-481d-bfbc-68ae8fb07c9e",
   "metadata": {},
   "outputs": [
    {
     "data": {
      "text/plain": [
       "False"
      ]
     },
     "execution_count": 29,
     "metadata": {},
     "output_type": "execute_result"
    }
   ],
   "source": [
    "bool(0+0j)"
   ]
  },
  {
   "cell_type": "code",
   "execution_count": 30,
   "id": "ca64204e-9e4a-4b75-b164-c4cf7da3b643",
   "metadata": {},
   "outputs": [
    {
     "data": {
      "text/plain": [
       "True"
      ]
     },
     "execution_count": 30,
     "metadata": {},
     "output_type": "execute_result"
    }
   ],
   "source": [
    "bool('ten')"
   ]
  },
  {
   "cell_type": "code",
   "execution_count": 31,
   "id": "83f6b1ed-3e70-41a0-84d1-b99a3c2912eb",
   "metadata": {},
   "outputs": [
    {
     "data": {
      "text/plain": [
       "True"
      ]
     },
     "execution_count": 31,
     "metadata": {},
     "output_type": "execute_result"
    }
   ],
   "source": [
    "bool(10)"
   ]
  },
  {
   "cell_type": "code",
   "execution_count": 32,
   "id": "744cf44d-ac9f-4ca4-8901-baa4105b1778",
   "metadata": {},
   "outputs": [
    {
     "data": {
      "text/plain": [
       "True"
      ]
     },
     "execution_count": 32,
     "metadata": {},
     "output_type": "execute_result"
    }
   ],
   "source": [
    "bool(_)"
   ]
  },
  {
   "cell_type": "code",
   "execution_count": 33,
   "id": "93afc08c-ab96-4b3b-9aec-f6c033d30448",
   "metadata": {},
   "outputs": [
    {
     "data": {
      "text/plain": [
       "False"
      ]
     },
     "execution_count": 33,
     "metadata": {},
     "output_type": "execute_result"
    }
   ],
   "source": [
    "bool( )"
   ]
  },
  {
   "cell_type": "markdown",
   "id": "ee64077c-3c39-47b0-ac9b-3c3b307ba7e0",
   "metadata": {},
   "source": [
    "### complete type casting here!"
   ]
  },
  {
   "cell_type": "markdown",
   "id": "2f76f9e8-1ce8-433a-854a-6030e8a0d7b7",
   "metadata": {},
   "source": [
    "# string indexing and slicicng, advance slicing"
   ]
  },
  {
   "cell_type": "code",
   "execution_count": 35,
   "id": "550cf045-cce8-41f7-9dbe-889b0a30b62d",
   "metadata": {},
   "outputs": [
    {
     "ename": "SyntaxError",
     "evalue": "invalid decimal literal (3210447194.py, line 1)",
     "output_type": "error",
     "traceback": [
      "\u001b[1;36m  Cell \u001b[1;32mIn[35], line 1\u001b[1;36m\u001b[0m\n\u001b[1;33m    9s = 'Hellopython'\u001b[0m\n\u001b[1;37m    ^\u001b[0m\n\u001b[1;31mSyntaxError\u001b[0m\u001b[1;31m:\u001b[0m invalid decimal literal\n"
     ]
    }
   ],
   "source": [
    "9s = 'Hellopython'"
   ]
  },
  {
   "cell_type": "code",
   "execution_count": 36,
   "id": "8b0f88b3-606c-4df5-a8c4-0f37cc94a568",
   "metadata": {},
   "outputs": [],
   "source": [
    "s9 = 'HelloPython'"
   ]
  },
  {
   "cell_type": "code",
   "execution_count": 37,
   "id": "c2297432-9fa1-4a39-a179-1ac715e67eb9",
   "metadata": {},
   "outputs": [
    {
     "data": {
      "text/plain": [
       "'HelloPython'"
      ]
     },
     "execution_count": 37,
     "metadata": {},
     "output_type": "execute_result"
    }
   ],
   "source": [
    "s9"
   ]
  },
  {
   "cell_type": "code",
   "execution_count": 39,
   "id": "2269fcf8-9747-435e-9069-3b7b502fdcb0",
   "metadata": {},
   "outputs": [
    {
     "data": {
      "text/plain": [
       "'HelloPython'"
      ]
     },
     "execution_count": 39,
     "metadata": {},
     "output_type": "execute_result"
    }
   ],
   "source": [
    "s9[:] # : slicing"
   ]
  },
  {
   "cell_type": "code",
   "execution_count": 40,
   "id": "aad9407f-c2d6-4c69-aad3-e8586ffcfd69",
   "metadata": {},
   "outputs": [
    {
     "name": "stdout",
     "output_type": "stream",
     "text": [
      "H\n",
      "e\n",
      "l\n",
      "l\n",
      "o\n",
      "P\n",
      "y\n",
      "t\n",
      "h\n",
      "o\n",
      "n\n"
     ]
    }
   ],
   "source": [
    "for i in s9:\n",
    "    print(i)"
   ]
  },
  {
   "cell_type": "code",
   "execution_count": 41,
   "id": "3c0fdeee-3bd6-4010-9e51-5092e1926983",
   "metadata": {},
   "outputs": [
    {
     "data": {
      "text/plain": [
       "'H'"
      ]
     },
     "execution_count": 41,
     "metadata": {},
     "output_type": "execute_result"
    }
   ],
   "source": [
    "s9[0]"
   ]
  },
  {
   "cell_type": "code",
   "execution_count": 42,
   "id": "ff4784fc-22a0-43cd-924c-7ae3ac8fca14",
   "metadata": {},
   "outputs": [
    {
     "data": {
      "text/plain": [
       "'e'"
      ]
     },
     "execution_count": 42,
     "metadata": {},
     "output_type": "execute_result"
    }
   ],
   "source": [
    "s9[1]"
   ]
  },
  {
   "cell_type": "code",
   "execution_count": 43,
   "id": "71eace73-d00f-48ae-ab1c-efcc60d22a71",
   "metadata": {},
   "outputs": [
    {
     "ename": "IndexError",
     "evalue": "string index out of range",
     "output_type": "error",
     "traceback": [
      "\u001b[1;31m---------------------------------------------------------------------------\u001b[0m",
      "\u001b[1;31mIndexError\u001b[0m                                Traceback (most recent call last)",
      "Cell \u001b[1;32mIn[43], line 1\u001b[0m\n\u001b[1;32m----> 1\u001b[0m s9[\u001b[38;5;241m20\u001b[39m]\n",
      "\u001b[1;31mIndexError\u001b[0m: string index out of range"
     ]
    }
   ],
   "source": [
    "s9[20]"
   ]
  },
  {
   "cell_type": "code",
   "execution_count": 44,
   "id": "21442e0b-a1df-4421-9a90-b24db9f04900",
   "metadata": {},
   "outputs": [
    {
     "data": {
      "text/plain": [
       "'t'"
      ]
     },
     "execution_count": 44,
     "metadata": {},
     "output_type": "execute_result"
    }
   ],
   "source": [
    "s9[-4]"
   ]
  },
  {
   "cell_type": "code",
   "execution_count": 45,
   "id": "97783ab4-6d14-4cd0-837b-fe4d55802884",
   "metadata": {},
   "outputs": [
    {
     "data": {
      "text/plain": [
       "'nohtyPolleH'"
      ]
     },
     "execution_count": 45,
     "metadata": {},
     "output_type": "execute_result"
    }
   ],
   "source": [
    "s9[::-1]"
   ]
  },
  {
   "cell_type": "code",
   "execution_count": 46,
   "id": "6e304886-a3c0-43d3-8761-839cd5aa6ea0",
   "metadata": {},
   "outputs": [
    {
     "data": {
      "text/plain": [
       "'Hello'"
      ]
     },
     "execution_count": 46,
     "metadata": {},
     "output_type": "execute_result"
    }
   ],
   "source": [
    "s9[0:5]"
   ]
  },
  {
   "cell_type": "code",
   "execution_count": 47,
   "id": "65ec7370-970d-4147-89db-cb51fe78e47f",
   "metadata": {},
   "outputs": [
    {
     "data": {
      "text/plain": [
       "'HelloPytho'"
      ]
     },
     "execution_count": 47,
     "metadata": {},
     "output_type": "execute_result"
    }
   ],
   "source": [
    "s9[0:-1]"
   ]
  },
  {
   "cell_type": "code",
   "execution_count": 48,
   "id": "1dafc1c2-7c4c-46b1-8bcf-a5300e7f8b82",
   "metadata": {},
   "outputs": [
    {
     "data": {
      "text/plain": [
       "'elloPython'"
      ]
     },
     "execution_count": 48,
     "metadata": {},
     "output_type": "execute_result"
    }
   ],
   "source": [
    "s9[1:20]"
   ]
  },
  {
   "cell_type": "code",
   "execution_count": 49,
   "id": "ec860230-c4ca-42c7-8066-f72c6e424700",
   "metadata": {},
   "outputs": [
    {
     "data": {
      "text/plain": [
       "'loPyth'"
      ]
     },
     "execution_count": 49,
     "metadata": {},
     "output_type": "execute_result"
    }
   ],
   "source": [
    "s9[3:9]"
   ]
  },
  {
   "cell_type": "code",
   "execution_count": 50,
   "id": "dfe2ad74-f152-45d6-982e-4686a9e8abac",
   "metadata": {},
   "outputs": [
    {
     "data": {
      "text/plain": [
       "'Hello'"
      ]
     },
     "execution_count": 50,
     "metadata": {},
     "output_type": "execute_result"
    }
   ],
   "source": [
    "s9[:5]"
   ]
  },
  {
   "cell_type": "code",
   "execution_count": 51,
   "id": "a813354b-37a4-4a2d-8743-6be2914ff3b2",
   "metadata": {},
   "outputs": [
    {
     "data": {
      "text/plain": [
       "'Python'"
      ]
     },
     "execution_count": 51,
     "metadata": {},
     "output_type": "execute_result"
    }
   ],
   "source": [
    "s9[5:]"
   ]
  },
  {
   "cell_type": "code",
   "execution_count": 53,
   "id": "05705f39-1a40-4466-a879-f37babba2e99",
   "metadata": {},
   "outputs": [
    {
     "data": {
      "text/plain": [
       "'Hloyhn'"
      ]
     },
     "execution_count": 53,
     "metadata": {},
     "output_type": "execute_result"
    }
   ],
   "source": [
    "s9[0:11:2] #step indexing"
   ]
  },
  {
   "cell_type": "code",
   "execution_count": 54,
   "id": "b82a6233-8d5a-4c74-bc77-f1c1232d8699",
   "metadata": {},
   "outputs": [
    {
     "data": {
      "text/plain": [
       "'HPn'"
      ]
     },
     "execution_count": 54,
     "metadata": {},
     "output_type": "execute_result"
    }
   ],
   "source": [
    "s9[0:11:5]"
   ]
  },
  {
   "cell_type": "code",
   "execution_count": 56,
   "id": "62a4f618-3af8-4d8f-855f-7731317460d5",
   "metadata": {},
   "outputs": [
    {
     "data": {
      "text/plain": [
       "'nhyolH'"
      ]
     },
     "execution_count": 56,
     "metadata": {},
     "output_type": "execute_result"
    }
   ],
   "source": [
    "s9[::-2] # back slicing"
   ]
  },
  {
   "cell_type": "code",
   "execution_count": null,
   "id": "1e3ee9f1-9d6a-4baf-99a4-d65751185f65",
   "metadata": {},
   "outputs": [],
   "source": [
    "# faizan baigan ke baal hai yaro tum!"
   ]
  },
  {
   "cell_type": "code",
   "execution_count": null,
   "id": "2f4e1b79-1755-40a7-af44-3032cc1ee73b",
   "metadata": {},
   "outputs": [],
   "source": []
  }
 ],
 "metadata": {
  "kernelspec": {
   "display_name": "Python 3 (ipykernel)",
   "language": "python",
   "name": "python3"
  },
  "language_info": {
   "codemirror_mode": {
    "name": "ipython",
    "version": 3
   },
   "file_extension": ".py",
   "mimetype": "text/x-python",
   "name": "python",
   "nbconvert_exporter": "python",
   "pygments_lexer": "ipython3",
   "version": "3.12.7"
  }
 },
 "nbformat": 4,
 "nbformat_minor": 5
}
