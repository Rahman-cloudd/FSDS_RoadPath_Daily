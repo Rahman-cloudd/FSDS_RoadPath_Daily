{
 "cells": [
  {
   "cell_type": "code",
   "execution_count": 2,
   "id": "d2ba5d68-9d55-4dca-8c38-e73071343d49",
   "metadata": {},
   "outputs": [
    {
     "data": {
      "text/plain": [
       "20"
      ]
     },
     "execution_count": 2,
     "metadata": {},
     "output_type": "execute_result"
    }
   ],
   "source": [
    "a = 10\n",
    "b = 20\n",
    "a\n",
    "b"
   ]
  },
  {
   "cell_type": "code",
   "execution_count": 3,
   "id": "bf73804f-549e-4e29-aab4-febb623b89b1",
   "metadata": {},
   "outputs": [
    {
     "name": "stdout",
     "output_type": "stream",
     "text": [
      "10\n",
      "20\n"
     ]
    }
   ],
   "source": [
    "a = 10\n",
    "b = 20\n",
    "print(a)\n",
    "print(b)"
   ]
  },
  {
   "cell_type": "code",
   "execution_count": 4,
   "id": "79b87b5a-3963-4f58-ab1b-115a3f914013",
   "metadata": {},
   "outputs": [
    {
     "name": "stdout",
     "output_type": "stream",
     "text": [
      "10\n",
      "10 20\n",
      "python\n",
      "10 20 python\n"
     ]
    }
   ],
   "source": [
    "print(10)\n",
    "print(10,20)\n",
    "print('python')\n",
    "print(10,20,'python')"
   ]
  },
  {
   "cell_type": "code",
   "execution_count": 5,
   "id": "4ed04193-0a5f-4dfa-a682-9763c826b852",
   "metadata": {},
   "outputs": [
    {
     "name": "stdout",
     "output_type": "stream",
     "text": [
      "50\n"
     ]
    }
   ],
   "source": [
    "num1 = 20\n",
    "num2 = 30\n",
    "add = num1+num2\n",
    "print(add)"
   ]
  },
  {
   "cell_type": "markdown",
   "id": "916312f0-5f64-4717-ac74-f0d59fa11cb5",
   "metadata": {},
   "source": [
    "# print result with string"
   ]
  },
  {
   "cell_type": "code",
   "execution_count": 9,
   "id": "25296c68-7e67-4029-8265-d75875e21d9c",
   "metadata": {},
   "outputs": [
    {
     "name": "stdout",
     "output_type": "stream",
     "text": [
      "the additon of 20 and 30 is = 50\n"
     ]
    }
   ],
   "source": [
    "num1 = 20\n",
    "num2 = 30\n",
    "add = num1+num2\n",
    "print('the additon of' , num1, 'and', num2,'is =', add)"
   ]
  },
  {
   "cell_type": "code",
   "execution_count": 10,
   "id": "d720070d-af10-49fd-a566-a61d30391fa2",
   "metadata": {},
   "outputs": [
    {
     "name": "stdout",
     "output_type": "stream",
     "text": [
      "the additon of 20 and 30 is equal to 50\n"
     ]
    }
   ],
   "source": [
    "num1 = 20\n",
    "num2 = 30\n",
    "add = num1+num2\n",
    "print('the additon of' , num1, 'and', num2,'is equal to', add)"
   ]
  },
  {
   "cell_type": "code",
   "execution_count": 14,
   "id": "74f96fe2-aa3a-470b-9dbb-eff130a8576b",
   "metadata": {},
   "outputs": [],
   "source": [
    "name = 'python'\n",
    "age = 20 \n",
    "city = 'hyderabad'\n",
    "# what we have to print is - my name is python and i'm 20 years old from hyderabad."
   ]
  },
  {
   "cell_type": "code",
   "execution_count": 17,
   "id": "4c869118-b599-4748-81e0-6047e3e36894",
   "metadata": {},
   "outputs": [
    {
     "name": "stdout",
     "output_type": "stream",
     "text": [
      "my name is python and i am 20  years old from hyderabad\n"
     ]
    }
   ],
   "source": [
    "print('my name is', name, 'and i am',age, ' years old from',city)"
   ]
  },
  {
   "cell_type": "markdown",
   "id": "217ac622-6170-4c7e-a5cc-e0cfeb3dd1f2",
   "metadata": {},
   "source": [
    "## print Format method"
   ]
  },
  {
   "cell_type": "code",
   "execution_count": 20,
   "id": "5e7625f2-07b8-4910-b39b-d40e220e75d8",
   "metadata": {},
   "outputs": [
    {
     "name": "stdout",
     "output_type": "stream",
     "text": [
      "the addition of 20 and 30 is= 50\n"
     ]
    }
   ],
   "source": [
    "num1 = 20\n",
    "num2 = 30\n",
    "add=num1+num2\n",
    "print('the addition of {} and {} is= {}'.format(num1,num2,add))"
   ]
  },
  {
   "cell_type": "code",
   "execution_count": 21,
   "id": "9bd93712-3e41-4d28-88e9-d4baeac08e51",
   "metadata": {},
   "outputs": [
    {
     "name": "stdout",
     "output_type": "stream",
     "text": [
      "the multiplication of 20 and 30 is = 600\n"
     ]
    }
   ],
   "source": [
    "num1 = 20\n",
    "num2 = 30\n",
    "multiply =num1*num2\n",
    "print('the multiplication of {} and {} is = {}'.format(num1,num2,multiply))"
   ]
  },
  {
   "cell_type": "code",
   "execution_count": 22,
   "id": "e49c126d-188a-4ab8-bb2a-9a858495a0a9",
   "metadata": {},
   "outputs": [
    {
     "name": "stdout",
     "output_type": "stream",
     "text": [
      "my name is python and 20 years old from hyderabad\n"
     ]
    }
   ],
   "source": [
    "name = 'python'\n",
    "age = 20 \n",
    "city = 'hyderabad'\n",
    "# I have to print hello my name is python and 20 years old from hyderabad\n",
    "\n",
    "print('my name is {} and {} years old from {}'.format(name,age,city))"
   ]
  },
  {
   "cell_type": "code",
   "execution_count": 32,
   "id": "e14f34c8-a4d2-4f5d-8d55-553e0438d133",
   "metadata": {},
   "outputs": [
    {
     "name": "stdout",
     "output_type": "stream",
     "text": [
      "the sum of 100 and 25 and 333 is = 152.66666666666666 or 152.67\n"
     ]
    }
   ],
   "source": [
    "num1= 100\n",
    "num2=25\n",
    "num3=333 \n",
    "avg= (num1+num2+num3)/3  # the avg of num1,num2,num3\n",
    "avg1=round((num1+num2+num3)/3,2) # the round fig avg\n",
    "\n",
    "print('the sum of {} and {} and {} is = {} or {}'.format(num1,num2,num3,avg,avg1))\n",
    "\n"
   ]
  },
  {
   "cell_type": "raw",
   "id": "fb5e099c-1e69-4f1c-81ca-264c83750136",
   "metadata": {},
   "source": [
    "round(avg,2)"
   ]
  },
  {
   "cell_type": "markdown",
   "id": "1f98f256-31f8-451b-9f3a-b3922ad3f52f",
   "metadata": {},
   "source": [
    "152.67"
   ]
  },
  {
   "cell_type": "code",
   "execution_count": 34,
   "id": "9dc19b5e-15d4-40e7-a64b-9639efd6ab9b",
   "metadata": {},
   "outputs": [
    {
     "name": "stdout",
     "output_type": "stream",
     "text": [
      "the multiplication of 100 and 25 and 333 is = 152.66666666666666\n"
     ]
    }
   ],
   "source": [
    "num1= 100\n",
    "num2=25\n",
    "num3=333 \n",
    "mul = num1*num2*num3\n",
    "\n",
    "print('the multiplication of {} and {} and {} is = {}'.format(num1,num2,num3,avg))"
   ]
  },
  {
   "cell_type": "code",
   "execution_count": 44,
   "id": "72169e18-24fc-4028-bb70-62947b555f3b",
   "metadata": {},
   "outputs": [
    {
     "name": "stdout",
     "output_type": "stream",
     "text": [
      "the addition of 10 and 20 is = 30\n",
      "the addition of 10 and 20 is = 30\n",
      "the addition of 10 and 20 is = 30\n"
     ]
    }
   ],
   "source": [
    "# lets combine all \n",
    "\n",
    "num1= 10\n",
    "num2= 20\n",
    "add= num1+num2\n",
    "\n",
    "print('the addition of',num1,\"and\",num2,'is =', add)\n",
    "print('the addition of {} and {} is = {}'.format(num1,num2,add))\n",
    "print(f'the addition of {num1} and {num2} is = {add}')"
   ]
  },
  {
   "cell_type": "markdown",
   "id": "68af7c66-8978-4792-bf57-4c0653d314b5",
   "metadata": {},
   "source": [
    "## end statement"
   ]
  },
  {
   "cell_type": "code",
   "execution_count": 42,
   "id": "011d95f4-cbaf-46e6-9028-2f4d08f89e39",
   "metadata": {},
   "outputs": [
    {
     "name": "stdout",
     "output_type": "stream",
     "text": [
      "hello\n",
      "good morning\n"
     ]
    }
   ],
   "source": [
    "print('hello') # 1st statement \n",
    "print('good morning') # 2nd statement\n",
    "\n",
    "# here we have to print Hello good morning in a line but when we print these we'll get"
   ]
  },
  {
   "cell_type": "code",
   "execution_count": 43,
   "id": "2563d107-802b-47b7-934e-1ae4d1b77d5d",
   "metadata": {},
   "outputs": [
    {
     "name": "stdout",
     "output_type": "stream",
     "text": [
      "hello good morning\n"
     ]
    }
   ],
   "source": [
    "# for getting hello good morning in a line, we used end statement\n",
    "print('hello',end=' ')\n",
    "print('good morning')"
   ]
  },
  {
   "cell_type": "markdown",
   "id": "b8fc15e5-23da-42a4-8880-482fb851b914",
   "metadata": {},
   "source": [
    "## seprator"
   ]
  },
  {
   "cell_type": "code",
   "execution_count": 45,
   "id": "2eda79bf-8475-45e6-9550-0532a7a5677e",
   "metadata": {},
   "outputs": [
    {
     "name": "stdout",
     "output_type": "stream",
     "text": [
      "hello....<hii....<how are you\n"
     ]
    }
   ],
   "source": [
    "print('hello','hii','how are you',sep='....<')"
   ]
  },
  {
   "cell_type": "code",
   "execution_count": 49,
   "id": "0ac71ced-ccc8-4453-b831-edd9eed9b6c1",
   "metadata": {},
   "outputs": [
    {
     "name": "stdout",
     "output_type": "stream",
     "text": [
      "hello & hii & how are you\n"
     ]
    }
   ],
   "source": [
    "print('hello', 'hii', 'how are you' ,sep= ' & ')"
   ]
  },
  {
   "cell_type": "code",
   "execution_count": 50,
   "id": "770ffdba-50ab-47b7-b721-1a29647cce25",
   "metadata": {},
   "outputs": [
    {
     "name": "stdout",
     "output_type": "stream",
     "text": [
      "hello @ hii @ how are you @ kem cho\n"
     ]
    }
   ],
   "source": [
    "print( 'hello', 'hii', 'how are you', 'kem cho',sep=' @ ')"
   ]
  },
  {
   "cell_type": "code",
   "execution_count": 51,
   "id": "988e2576-41b0-4216-95ff-5eb443f8a0b3",
   "metadata": {},
   "outputs": [
    {
     "name": "stdout",
     "output_type": "stream",
     "text": [
      "hello  hii  how are you\n"
     ]
    }
   ],
   "source": [
    "print('hello', 'hii', 'how are you' ,sep= '  ')"
   ]
  },
  {
   "cell_type": "code",
   "execution_count": 52,
   "id": "97ae0eb0-f96e-4478-b842-58c32344d938",
   "metadata": {},
   "outputs": [
    {
     "name": "stdout",
     "output_type": "stream",
     "text": [
      "3 .\n"
     ]
    }
   ],
   "source": [
    "print(3,'.') # these value will have a gap between them when we print"
   ]
  },
  {
   "cell_type": "code",
   "execution_count": 53,
   "id": "be21ed82-1165-4c36-8cc4-7789b9ffac77",
   "metadata": {},
   "outputs": [
    {
     "name": "stdout",
     "output_type": "stream",
     "text": [
      "3.\n"
     ]
    }
   ],
   "source": [
    "# to remove these gap \n",
    "\n",
    "print(3,'.',sep='')"
   ]
  },
  {
   "cell_type": "code",
   "execution_count": 56,
   "id": "8ce6ae9b-19c4-4025-9c6e-da38cd59e93a",
   "metadata": {},
   "outputs": [
    {
     "name": "stdout",
     "output_type": "stream",
     "text": [
      "1 2 3 .\n"
     ]
    }
   ],
   "source": [
    "print(1,2,end=' ')\n",
    "print(3,'.',sep=' ')"
   ]
  },
  {
   "cell_type": "code",
   "execution_count": null,
   "id": "ce5381f9-1454-4f39-b078-d8e5605f9064",
   "metadata": {},
   "outputs": [],
   "source": []
  }
 ],
 "metadata": {
  "kernelspec": {
   "display_name": "Python 3 (ipykernel)",
   "language": "python",
   "name": "python3"
  },
  "language_info": {
   "codemirror_mode": {
    "name": "ipython",
    "version": 3
   },
   "file_extension": ".py",
   "mimetype": "text/x-python",
   "name": "python",
   "nbconvert_exporter": "python",
   "pygments_lexer": "ipython3",
   "version": "3.12.7"
  }
 },
 "nbformat": 4,
 "nbformat_minor": 5
}
