{
 "cells": [
  {
   "cell_type": "markdown",
   "id": "61567984-369d-419f-804e-7a6d342891a2",
   "metadata": {},
   "source": [
    "# Dictionary"
   ]
  },
  {
   "cell_type": "code",
   "execution_count": 93,
   "id": "e9ea0306-d0e3-4787-8cac-ad8fdeb2e17c",
   "metadata": {},
   "outputs": [],
   "source": [
    "# dict is a mutable datatype in python\n",
    "# A python dict is a collection of key and value pair separated by a : & enclosed with a {} surly brackets\n",
    "# key must be unique in dict, and duplicate values are allowed"
   ]
  },
  {
   "cell_type": "markdown",
   "id": "d892d8c1-a2c4-4fb8-9d3c-96ead2551b9e",
   "metadata": {},
   "source": [
    "## Create Dictionary "
   ]
  },
  {
   "cell_type": "code",
   "execution_count": 98,
   "id": "0810a549-4fbb-4294-b953-91dcc2200fb9",
   "metadata": {},
   "outputs": [
    {
     "data": {
      "text/plain": [
       "{}"
      ]
     },
     "execution_count": 98,
     "metadata": {},
     "output_type": "execute_result"
    }
   ],
   "source": [
    "mydict = dict() # empty dict\n",
    "mydict"
   ]
  },
  {
   "cell_type": "code",
   "execution_count": 99,
   "id": "2733a0ba-edd9-47b8-b17e-7f01cea91bb7",
   "metadata": {},
   "outputs": [
    {
     "data": {
      "text/plain": [
       "dict"
      ]
     },
     "execution_count": 99,
     "metadata": {},
     "output_type": "execute_result"
    }
   ],
   "source": [
    "type(mydict)"
   ]
  },
  {
   "cell_type": "code",
   "execution_count": 101,
   "id": "f8bff739-c052-49b1-8310-8ff903a48fae",
   "metadata": {},
   "outputs": [
    {
     "data": {
      "text/plain": [
       "{1: 'one', 2: 'two', 3: 'three'}"
      ]
     },
     "execution_count": 101,
     "metadata": {},
     "output_type": "execute_result"
    }
   ],
   "source": [
    "mydict = dict({1:'one',2:'two',3:'three'})  # creating dict using dict()\n",
    "mydict"
   ]
  },
  {
   "cell_type": "code",
   "execution_count": 102,
   "id": "7680f2be-c0d8-44bd-a987-b040f88e0759",
   "metadata": {},
   "outputs": [
    {
     "data": {
      "text/plain": [
       "{'A': 'one', 'B': 'two', 'C': 'three'}"
      ]
     },
     "execution_count": 102,
     "metadata": {},
     "output_type": "execute_result"
    }
   ],
   "source": [
    "mydict = {'A':'one','B':'two','C':'three'}  # dict wityh character keys\n",
    "mydict"
   ]
  },
  {
   "cell_type": "code",
   "execution_count": 104,
   "id": "6234daaf-42a0-4500-bc1d-bfb969a38f48",
   "metadata": {},
   "outputs": [
    {
     "data": {
      "text/plain": [
       "{1: 'one', 'A': 'two', 3: 'three'}"
      ]
     },
     "execution_count": 104,
     "metadata": {},
     "output_type": "execute_result"
    }
   ],
   "source": [
    "mydict = {1:'one','A':'two',3:'three'}   # dict with mix keys and value\n",
    "mydict"
   ]
  },
  {
   "cell_type": "code",
   "execution_count": 105,
   "id": "9503ebeb-26f6-4e3e-9b19-14e562457fc3",
   "metadata": {},
   "outputs": [
    {
     "data": {
      "text/plain": [
       "dict_keys([1, 'A', 3])"
      ]
     },
     "execution_count": 105,
     "metadata": {},
     "output_type": "execute_result"
    }
   ],
   "source": [
    "mydict.keys()  # return dict key by using key()"
   ]
  },
  {
   "cell_type": "code",
   "execution_count": 106,
   "id": "3e39f765-ede3-4c8d-997e-5b6bf5f9e41c",
   "metadata": {},
   "outputs": [
    {
     "data": {
      "text/plain": [
       "dict_values(['one', 'two', 'three'])"
      ]
     },
     "execution_count": 106,
     "metadata": {},
     "output_type": "execute_result"
    }
   ],
   "source": [
    "mydict.values() # return all values by using value()"
   ]
  },
  {
   "cell_type": "code",
   "execution_count": 107,
   "id": "52c2fe22-2d31-43c9-ab6c-77b6ac5cfc73",
   "metadata": {},
   "outputs": [
    {
     "data": {
      "text/plain": [
       "dict_items([(1, 'one'), ('A', 'two'), (3, 'three')])"
      ]
     },
     "execution_count": 107,
     "metadata": {},
     "output_type": "execute_result"
    }
   ],
   "source": [
    "mydict.items() # acess each key value pair with item()funtion"
   ]
  },
  {
   "cell_type": "code",
   "execution_count": 108,
   "id": "ec564b33-bdfb-4774-8913-5d542e9e44dd",
   "metadata": {},
   "outputs": [
    {
     "data": {
      "text/plain": [
       "{1: 'one', 2: 'two', 'A': ['Asif', 'jhon', 'maria']}"
      ]
     },
     "execution_count": 108,
     "metadata": {},
     "output_type": "execute_result"
    }
   ],
   "source": [
    "mydict = {1:'one',2:'two','A':['Asif','jhon','maria']} # dict with nexted dict\n",
    "mydict"
   ]
  },
  {
   "cell_type": "code",
   "execution_count": 109,
   "id": "d645b344-d69c-4003-b2ae-fac2795f00dd",
   "metadata": {},
   "outputs": [
    {
     "data": {
      "text/plain": [
       "{1: 'one',\n",
       " 2: 'two',\n",
       " 'A': ['Asif', 'jhon', 'maria'],\n",
       " 'B': ['bat', 'cat', 'hat']}"
      ]
     },
     "execution_count": 109,
     "metadata": {},
     "output_type": "execute_result"
    }
   ],
   "source": [
    "mydict = {1:'one',2:'two','A':['Asif','jhon','maria'],'B':['bat','cat','hat']}\n",
    "mydict"
   ]
  },
  {
   "cell_type": "code",
   "execution_count": 110,
   "id": "d4438bcd-1c8f-44f6-bac5-fc71b065209d",
   "metadata": {},
   "outputs": [
    {
     "data": {
      "text/plain": [
       "{'d': 10, 'b': 10, 'a': 10, 'c': 10}"
      ]
     },
     "execution_count": 110,
     "metadata": {},
     "output_type": "execute_result"
    }
   ],
   "source": [
    "keys = {'a','b','c','d'}\n",
    "value = 10\n",
    "mydict3 = dict.fromkeys(keys,value) # creating a dict from a sequance\n",
    "mydict3"
   ]
  },
  {
   "cell_type": "code",
   "execution_count": 111,
   "id": "97da5768-144a-4d23-b1ff-58241eaab28f",
   "metadata": {},
   "outputs": [
    {
     "data": {
      "text/plain": [
       "{'d': [10, 20, 30], 'b': [10, 20, 30], 'a': [10, 20, 30], 'c': [10, 20, 30]}"
      ]
     },
     "execution_count": 111,
     "metadata": {},
     "output_type": "execute_result"
    }
   ],
   "source": [
    "keys = {'a','b','c','d'}\n",
    "value = [10,20,30]\n",
    "mydict3 = dict.fromkeys(keys,value) # creating a dict from a sequance\n",
    "mydict3"
   ]
  },
  {
   "cell_type": "code",
   "execution_count": 112,
   "id": "1d7020c7-409a-4ff6-8749-456d4ee79e1f",
   "metadata": {},
   "outputs": [
    {
     "data": {
      "text/plain": [
       "{'d': [10, 20, 30, 40],\n",
       " 'b': [10, 20, 30, 40],\n",
       " 'a': [10, 20, 30, 40],\n",
       " 'c': [10, 20, 30, 40]}"
      ]
     },
     "execution_count": 112,
     "metadata": {},
     "output_type": "execute_result"
    }
   ],
   "source": [
    "value.append(40)\n",
    "mydict3"
   ]
  },
  {
   "cell_type": "markdown",
   "id": "f28353fa-05c4-4525-9d4b-9ebc69aa6993",
   "metadata": {},
   "source": [
    "## Accessing Items"
   ]
  },
  {
   "cell_type": "code",
   "execution_count": 113,
   "id": "88597cd3-adb2-423f-a66c-a73e98ae305e",
   "metadata": {},
   "outputs": [
    {
     "data": {
      "text/plain": [
       "{1: 'one', 'A': 'two', 3: 'three', 4: 'four'}"
      ]
     },
     "execution_count": 113,
     "metadata": {},
     "output_type": "execute_result"
    }
   ],
   "source": [
    "mydict = {1:'one','A':'two',3:'three',4:'four'}\n",
    "mydict"
   ]
  },
  {
   "cell_type": "code",
   "execution_count": 115,
   "id": "5f870189-488d-4698-b987-d0caf3a7d9c5",
   "metadata": {},
   "outputs": [
    {
     "data": {
      "text/plain": [
       "'one'"
      ]
     },
     "execution_count": 115,
     "metadata": {},
     "output_type": "execute_result"
    }
   ],
   "source": [
    "mydict[1]  # access using key"
   ]
  },
  {
   "cell_type": "code",
   "execution_count": 116,
   "id": "cece91e1-d06a-4c92-b2a1-59670c05e7e0",
   "metadata": {},
   "outputs": [
    {
     "data": {
      "text/plain": [
       "'one'"
      ]
     },
     "execution_count": 116,
     "metadata": {},
     "output_type": "execute_result"
    }
   ],
   "source": [
    "mydict.get(1)  # access using the get() method"
   ]
  },
  {
   "cell_type": "code",
   "execution_count": 117,
   "id": "a1b5066c-1ac7-4bb2-a5e3-5cd8c55d7d3a",
   "metadata": {},
   "outputs": [
    {
     "data": {
      "text/plain": [
       "{'name': 'asif', 'id': 74123, 'DOB': 1991, 'Job': 'Analyst'}"
      ]
     },
     "execution_count": 117,
     "metadata": {},
     "output_type": "execute_result"
    }
   ],
   "source": [
    "mydict1 = {'name':'asif','id':74123,'DOB': 1991,'Job':'Analyst'}\n",
    "mydict1"
   ]
  },
  {
   "cell_type": "code",
   "execution_count": 119,
   "id": "108beb05-6aa4-4e13-bc5d-da5c1a85d5b2",
   "metadata": {},
   "outputs": [
    {
     "data": {
      "text/plain": [
       "'asif'"
      ]
     },
     "execution_count": 119,
     "metadata": {},
     "output_type": "execute_result"
    }
   ],
   "source": [
    "mydict1['name']"
   ]
  },
  {
   "cell_type": "code",
   "execution_count": 122,
   "id": "b4ae6c6d-aff0-4065-bda7-dae5bce4c465",
   "metadata": {},
   "outputs": [
    {
     "data": {
      "text/plain": [
       "'Analyst'"
      ]
     },
     "execution_count": 122,
     "metadata": {},
     "output_type": "execute_result"
    }
   ],
   "source": [
    "mydict1.get('Job')"
   ]
  },
  {
   "cell_type": "markdown",
   "id": "5a1e5fe4-35ae-477a-8f88-c031b91bcc3e",
   "metadata": {},
   "source": [
    "## Add, Remove & change Items"
   ]
  },
  {
   "cell_type": "code",
   "execution_count": 123,
   "id": "721075c4-02e8-4ac5-accd-8a78c0fe5edb",
   "metadata": {},
   "outputs": [
    {
     "data": {
      "text/plain": [
       "{'name': 'asif', 'id': 74123, 'DOB': 1991, 'Address': 'Hlsinki'}"
      ]
     },
     "execution_count": 123,
     "metadata": {},
     "output_type": "execute_result"
    }
   ],
   "source": [
    "mydict1 = {'name':'asif','id':74123,'DOB': 1991,'Address':'Hlsinki'}\n",
    "mydict1"
   ]
  },
  {
   "cell_type": "code",
   "execution_count": 124,
   "id": "e85ae66b-82d4-4b77-a7a0-3b6106e6375f",
   "metadata": {},
   "outputs": [
    {
     "data": {
      "text/plain": [
       "{'name': 'asif', 'id': 74123, 'DOB': 1992, 'Address': 'Delhi'}"
      ]
     },
     "execution_count": 124,
     "metadata": {},
     "output_type": "execute_result"
    }
   ],
   "source": [
    "mydict1['DOB'] = 1992        # chnageing the dict items\n",
    "mydict1['Address'] = 'Delhi'\n",
    "mydict1"
   ]
  },
  {
   "cell_type": "code",
   "execution_count": 126,
   "id": "b0b25a52-9b77-4dbf-93d5-4ac7598f5c0a",
   "metadata": {},
   "outputs": [
    {
     "data": {
      "text/plain": [
       "{'name': 'asif', 'id': 74123, 'DOB': 1995, 'Address': 'Delhi'}"
      ]
     },
     "execution_count": 126,
     "metadata": {},
     "output_type": "execute_result"
    }
   ],
   "source": [
    "dict1 = {'DOB':1995}\n",
    "mydict1.update(dict1)\n",
    "mydict1"
   ]
  },
  {
   "cell_type": "code",
   "execution_count": 129,
   "id": "e7d477e4-b91a-459e-8b03-1531b4e9a1d1",
   "metadata": {},
   "outputs": [
    {
     "data": {
      "text/plain": [
       "{'name': 'asif', 'id': 74123, 'DOB': 1995, 'Address': 'Delhi'}"
      ]
     },
     "execution_count": 129,
     "metadata": {},
     "output_type": "execute_result"
    }
   ],
   "source": [
    "mydict['Job'] = 'Analyts'  # adding items using dict\n",
    "mydict1"
   ]
  },
  {
   "cell_type": "code",
   "execution_count": 130,
   "id": "4fa4e243-a4f8-45e0-a379-dbf1d484039a",
   "metadata": {},
   "outputs": [
    {
     "data": {
      "text/plain": [
       "('Address', 'Delhi')"
      ]
     },
     "execution_count": 130,
     "metadata": {},
     "output_type": "execute_result"
    }
   ],
   "source": [
    "mydict1.popitem()    # from poopitem() a random item will remove"
   ]
  },
  {
   "cell_type": "code",
   "execution_count": 131,
   "id": "152cd5f5-36bb-4786-87a7-5d8800419f03",
   "metadata": {},
   "outputs": [
    {
     "data": {
      "text/plain": [
       "{'name': 'asif', 'id': 74123, 'DOB': 1995}"
      ]
     },
     "execution_count": 131,
     "metadata": {},
     "output_type": "execute_result"
    }
   ],
   "source": [
    "mydict1"
   ]
  },
  {
   "cell_type": "code",
   "execution_count": 132,
   "id": "235742bc-a0d2-4dac-a2b9-ed3c1924d952",
   "metadata": {},
   "outputs": [
    {
     "data": {
      "text/plain": [
       "{'name': 'asif', 'DOB': 1995}"
      ]
     },
     "execution_count": 132,
     "metadata": {},
     "output_type": "execute_result"
    }
   ],
   "source": [
    "del[mydict1['id']]      # remove item using del method\n",
    "mydict1"
   ]
  },
  {
   "cell_type": "code",
   "execution_count": 133,
   "id": "dde01953-9343-4aa9-aa5e-d7ebbbae3da8",
   "metadata": {},
   "outputs": [
    {
     "data": {
      "text/plain": [
       "{}"
      ]
     },
     "execution_count": 133,
     "metadata": {},
     "output_type": "execute_result"
    }
   ],
   "source": [
    "mydict1.clear()    # deletinh the whole dict items\n",
    "mydict1"
   ]
  },
  {
   "cell_type": "code",
   "execution_count": 134,
   "id": "1eacdc3e-8839-4832-a18a-889099f548f8",
   "metadata": {},
   "outputs": [],
   "source": [
    "del mydict1    # deleting the dictionary object"
   ]
  },
  {
   "cell_type": "code",
   "execution_count": 135,
   "id": "1d812928-616b-4226-91e7-e41bccf7673b",
   "metadata": {},
   "outputs": [
    {
     "ename": "NameError",
     "evalue": "name 'mydict1' is not defined",
     "output_type": "error",
     "traceback": [
      "\u001b[1;31m---------------------------------------------------------------------------\u001b[0m",
      "\u001b[1;31mNameError\u001b[0m                                 Traceback (most recent call last)",
      "Cell \u001b[1;32mIn[135], line 1\u001b[0m\n\u001b[1;32m----> 1\u001b[0m mydict1\n",
      "\u001b[1;31mNameError\u001b[0m: name 'mydict1' is not defined"
     ]
    }
   ],
   "source": [
    "mydict1"
   ]
  },
  {
   "cell_type": "markdown",
   "id": "04545efb-cdb7-4fb4-88fa-95e6ec0f7453",
   "metadata": {},
   "source": [
    "## Copy Dictionary"
   ]
  },
  {
   "cell_type": "code",
   "execution_count": 136,
   "id": "1c2e1ae4-3a06-4e42-bd3d-29c547edba57",
   "metadata": {},
   "outputs": [
    {
     "data": {
      "text/plain": [
       "{'name': 'asif', 'id': 74123, 'DOB': 1991, 'Address': 'Hlsinki'}"
      ]
     },
     "execution_count": 136,
     "metadata": {},
     "output_type": "execute_result"
    }
   ],
   "source": [
    "mydict = {'name':'asif','id':74123,'DOB': 1991,'Address':'Hlsinki'}\n",
    "mydict"
   ]
  },
  {
   "cell_type": "code",
   "execution_count": 137,
   "id": "2e56d4fa-3f62-48c5-8c53-4836f07f634b",
   "metadata": {},
   "outputs": [],
   "source": [
    "mydict1 = mydict # creating a new reference dict"
   ]
  },
  {
   "cell_type": "code",
   "execution_count": 138,
   "id": "6e43b13f-bbe7-4286-9100-64475a2a9790",
   "metadata": {},
   "outputs": [
    {
     "data": {
      "text/plain": [
       "(2051805502464, 2051805502464)"
      ]
     },
     "execution_count": 138,
     "metadata": {},
     "output_type": "execute_result"
    }
   ],
   "source": [
    "id(mydict1),id(mydict)"
   ]
  },
  {
   "cell_type": "code",
   "execution_count": 139,
   "id": "275ba5ba-3a84-4707-8b0b-489ae0dc7491",
   "metadata": {},
   "outputs": [],
   "source": [
    "mydict2 = mydict.copy()  "
   ]
  },
  {
   "cell_type": "code",
   "execution_count": 140,
   "id": "82990d43-9e21-43a2-a7b1-dacf9caaefb8",
   "metadata": {},
   "outputs": [
    {
     "data": {
      "text/plain": [
       "2051780095808"
      ]
     },
     "execution_count": 140,
     "metadata": {},
     "output_type": "execute_result"
    }
   ],
   "source": [
    "id(mydict2)"
   ]
  },
  {
   "cell_type": "code",
   "execution_count": 141,
   "id": "a5829d63-a915-423d-bcf4-a6df8e738fa3",
   "metadata": {},
   "outputs": [
    {
     "data": {
      "text/plain": [
       "{'name': 'asif', 'id': 74123, 'DOB': 1991, 'Address': 'mumbai'}"
      ]
     },
     "execution_count": 141,
     "metadata": {},
     "output_type": "execute_result"
    }
   ],
   "source": [
    "mydict['Address'] = 'mumbai'\n",
    "mydict"
   ]
  },
  {
   "cell_type": "code",
   "execution_count": 142,
   "id": "17423fb0-508e-4646-beb2-8581c2460b36",
   "metadata": {},
   "outputs": [
    {
     "data": {
      "text/plain": [
       "{'name': 'asif', 'id': 74123, 'DOB': 1991, 'Address': 'mumbai'}"
      ]
     },
     "execution_count": 142,
     "metadata": {},
     "output_type": "execute_result"
    }
   ],
   "source": [
    "mydict1"
   ]
  },
  {
   "cell_type": "code",
   "execution_count": 143,
   "id": "958fc388-896d-4b4b-b098-b8bebf797e98",
   "metadata": {},
   "outputs": [
    {
     "data": {
      "text/plain": [
       "{'name': 'asif', 'id': 74123, 'DOB': 1991, 'Address': 'Hlsinki'}"
      ]
     },
     "execution_count": 143,
     "metadata": {},
     "output_type": "execute_result"
    }
   ],
   "source": [
    "mydict2"
   ]
  },
  {
   "cell_type": "markdown",
   "id": "e523509a-b73b-418c-853b-414cd2d22271",
   "metadata": {},
   "source": [
    "## Loop through a dictionary"
   ]
  },
  {
   "cell_type": "code",
   "execution_count": 145,
   "id": "88e8dcc9-e848-439f-83fe-395d24bce0ac",
   "metadata": {},
   "outputs": [
    {
     "data": {
      "text/plain": [
       "{'name': 'asif',\n",
       " 'id': 74123,\n",
       " 'DOB': 1991,\n",
       " 'Address': 'Hlsinki',\n",
       " 'Job': 'Anylyst'}"
      ]
     },
     "execution_count": 145,
     "metadata": {},
     "output_type": "execute_result"
    }
   ],
   "source": [
    "mydict1 = {'name':'asif','id':74123,'DOB': 1991,'Address':'Hlsinki','Job':'Anylyst'}\n",
    "mydict1"
   ]
  },
  {
   "cell_type": "code",
   "execution_count": 150,
   "id": "df23f88c-2bbd-47fd-9a85-85b08b9e6978",
   "metadata": {},
   "outputs": [
    {
     "name": "stdout",
     "output_type": "stream",
     "text": [
      "name\n",
      "id\n",
      "DOB\n",
      "Address\n",
      "Job\n"
     ]
    }
   ],
   "source": [
    "for i in mydict1:\n",
    "    print(i)     # print key"
   ]
  },
  {
   "cell_type": "code",
   "execution_count": 151,
   "id": "5f011b57-cf38-4c0a-8ba8-c8f2909f05be",
   "metadata": {},
   "outputs": [
    {
     "name": "stdout",
     "output_type": "stream",
     "text": [
      "name : asif\n",
      "id : 74123\n",
      "DOB : 1991\n",
      "Address : Hlsinki\n",
      "Job : Anylyst\n"
     ]
    }
   ],
   "source": [
    "for i in mydict1:\n",
    "    print(i, ':', mydict1[i])     # keys and value pair"
   ]
  },
  {
   "cell_type": "code",
   "execution_count": 153,
   "id": "67f6c685-796a-4ef1-8942-0715a3dd1896",
   "metadata": {},
   "outputs": [
    {
     "name": "stdout",
     "output_type": "stream",
     "text": [
      "asif\n",
      "74123\n",
      "1991\n",
      "Hlsinki\n",
      "Anylyst\n"
     ]
    }
   ],
   "source": [
    "for i in mydict1:\n",
    "    print(mydict1[i])    # print dict items"
   ]
  },
  {
   "cell_type": "markdown",
   "id": "0bbac117-58f3-416d-ae09-ce27afe93d19",
   "metadata": {},
   "source": [
    "## Dictionary membership"
   ]
  },
  {
   "cell_type": "code",
   "execution_count": 154,
   "id": "0cff87c3-8dda-449f-acc9-7dd997522594",
   "metadata": {},
   "outputs": [
    {
     "data": {
      "text/plain": [
       "{'name': 'asif',\n",
       " 'id': 74123,\n",
       " 'DOB': 1991,\n",
       " 'Address': 'Hlsinki',\n",
       " 'Job': 'Anylyst'}"
      ]
     },
     "execution_count": 154,
     "metadata": {},
     "output_type": "execute_result"
    }
   ],
   "source": [
    "mydict1 = {'name':'asif','id':74123,'DOB': 1991,'Address':'Hlsinki','Job':'Anylyst'}\n",
    "mydict1"
   ]
  },
  {
   "cell_type": "code",
   "execution_count": 155,
   "id": "b2de049a-3bb7-48c2-91f7-92b183cee547",
   "metadata": {},
   "outputs": [
    {
     "data": {
      "text/plain": [
       "True"
      ]
     },
     "execution_count": 155,
     "metadata": {},
     "output_type": "execute_result"
    }
   ],
   "source": [
    "'name' in mydict1"
   ]
  },
  {
   "cell_type": "code",
   "execution_count": 156,
   "id": "b5125295-082b-4a39-a2e5-b313a458be62",
   "metadata": {},
   "outputs": [
    {
     "data": {
      "text/plain": [
       "True"
      ]
     },
     "execution_count": 156,
     "metadata": {},
     "output_type": "execute_result"
    }
   ],
   "source": [
    "'Job' in mydict1"
   ]
  },
  {
   "cell_type": "code",
   "execution_count": 157,
   "id": "695cd7b4-6a99-481d-b43b-39ffbd6e6ee5",
   "metadata": {},
   "outputs": [
    {
     "data": {
      "text/plain": [
       "True"
      ]
     },
     "execution_count": 157,
     "metadata": {},
     "output_type": "execute_result"
    }
   ],
   "source": [
    "'id' in mydict1"
   ]
  },
  {
   "cell_type": "code",
   "execution_count": 158,
   "id": "65121425-2282-4fd7-893a-f30ba14f58a7",
   "metadata": {},
   "outputs": [
    {
     "data": {
      "text/plain": [
       "False"
      ]
     },
     "execution_count": 158,
     "metadata": {},
     "output_type": "execute_result"
    }
   ],
   "source": [
    "'Height' in mydict1"
   ]
  },
  {
   "cell_type": "markdown",
   "id": "66ab00f2-1b2c-42c6-b8b7-452685af8260",
   "metadata": {},
   "source": [
    "## ALL/ANY"
   ]
  },
  {
   "cell_type": "code",
   "execution_count": 159,
   "id": "71bfc029-e1d6-49d5-a887-bd644e413831",
   "metadata": {},
   "outputs": [
    {
     "data": {
      "text/plain": [
       "{'name': 'asif',\n",
       " 'id': 74123,\n",
       " 'DOB': 1991,\n",
       " 'Address': 'Hlsinki',\n",
       " 'Job': 'Anylyst'}"
      ]
     },
     "execution_count": 159,
     "metadata": {},
     "output_type": "execute_result"
    }
   ],
   "source": [
    "mydict1 = {'name':'asif','id':74123,'DOB': 1991,'Address':'Hlsinki','Job':'Anylyst'}\n",
    "mydict1"
   ]
  },
  {
   "cell_type": "code",
   "execution_count": 161,
   "id": "cf57d802-6e47-444e-8a8e-f38580d76114",
   "metadata": {},
   "outputs": [
    {
     "data": {
      "text/plain": [
       "True"
      ]
     },
     "execution_count": 161,
     "metadata": {},
     "output_type": "execute_result"
    }
   ],
   "source": [
    "all(mydict1)"
   ]
  },
  {
   "cell_type": "code",
   "execution_count": 162,
   "id": "50482ee9-a115-4810-bcee-e52628d17440",
   "metadata": {},
   "outputs": [
    {
     "data": {
      "text/plain": [
       "True"
      ]
     },
     "execution_count": 162,
     "metadata": {},
     "output_type": "execute_result"
    }
   ],
   "source": [
    "any(mydict1)"
   ]
  },
  {
   "cell_type": "code",
   "execution_count": null,
   "id": "2bb19f9d-6aed-49bd-b2a2-82e0a00a04ee",
   "metadata": {},
   "outputs": [],
   "source": []
  }
 ],
 "metadata": {
  "kernelspec": {
   "display_name": "Python 3 (ipykernel)",
   "language": "python",
   "name": "python3"
  },
  "language_info": {
   "codemirror_mode": {
    "name": "ipython",
    "version": 3
   },
   "file_extension": ".py",
   "mimetype": "text/x-python",
   "name": "python",
   "nbconvert_exporter": "python",
   "pygments_lexer": "ipython3",
   "version": "3.12.7"
  }
 },
 "nbformat": 4,
 "nbformat_minor": 5
}
